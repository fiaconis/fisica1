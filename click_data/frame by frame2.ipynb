{
 "cells": [
  {
   "cell_type": "markdown",
   "id": "f6105e4e",
   "metadata": {},
   "source": [
    "# Frame by Frame\n",
    "\n",
    "Este notebook tiene una entrada que sirve para analizar un video cuadro a cuadro. Al ejecutar dicha entrada se va a abrir una ventana donde va a aparecer el primer cuadro del video. Apretando la letra \"n\" se mostrará el proximo cuadro. Apretando \"p\" se mostrará el cuadro anterior. Si se aprieta la letra \"t\" mostrará el tiempo en segundos del cuadro. Si se hace click en alguna parte de la ventana mostrará la coordenada en pixeles donde se hizo click en el video y el tiempo del cuadro. Estos datos se guardan en un dataframe que se llama \"df\". Para cerrar el programa apretar la letra \"q\".\n",
    "\n",
    "Al final del notebook hay una entrada que sirve para descargar videos de youtube. Usé esto para descargar un video de una persona caminando."
   ]
  },
  {
   "cell_type": "code",
   "execution_count": 3,
   "id": "1f74956b",
   "metadata": {},
   "outputs": [],
   "source": [
    "import cv2\n",
    "import pandas as pd\n",
    "from glob import glob as gl"
   ]
  },
  {
   "cell_type": "code",
   "execution_count": 4,
   "id": "7e66a370",
   "metadata": {},
   "outputs": [
    {
     "data": {
      "text/plain": [
       "['frame by frame2.ipynb',\n",
       " 'README.md',\n",
       " 'tiro_oblicuo.csv',\n",
       " 'video.mp4',\n",
       " 'video2.mp4']"
      ]
     },
     "execution_count": 4,
     "metadata": {},
     "output_type": "execute_result"
    }
   ],
   "source": [
    "gl('*')"
   ]
  },
  {
   "cell_type": "code",
   "execution_count": 5,
   "id": "c4888978",
   "metadata": {},
   "outputs": [
    {
     "name": "stdout",
     "output_type": "stream",
     "text": [
      "Mouse clicked at (29, 368)\n",
      "time 0.044444444444444446\n"
     ]
    }
   ],
   "source": [
    "def get_video_info(video_path):\n",
    "    video = cv2.VideoCapture(video_path)\n",
    "    frame_count = int(video.get(cv2.CAP_PROP_FRAME_COUNT))\n",
    "    fps = video.get(cv2.CAP_PROP_FPS)\n",
    "    duration = frame_count / fps\n",
    "    return frame_count, fps, duration\n",
    "\n",
    "def format_time(seconds):\n",
    "    minutes, seconds = divmod(seconds, 60)\n",
    "    hours, minutes = divmod(minutes, 60)\n",
    "    return \"{:02d}:{:02d}:{:02d}\".format(int(hours), int(minutes), int(seconds))\n",
    "\n",
    "def display_frame(video, frame_number):\n",
    "    video.set(cv2.CAP_PROP_POS_FRAMES, frame_number)\n",
    "    _, frame = video.read()\n",
    "    global width\n",
    "    global height\n",
    "    width = 800 # Aca pongan el ancho del video que quieren ver en pantalla\n",
    "    height = 600 # Aca el alto\n",
    "    frame = cv2.resize(frame, (width ,height))\n",
    "    \n",
    "    cv2.imshow('Video Player', frame)\n",
    "    frame_count = video.get(cv2.CAP_PROP_POS_FRAMES)\n",
    "    duration = video.get(cv2.CAP_PROP_POS_MSEC) / 1000\n",
    "    #print(\"Frame: {}\".format(int(frame_count)))\n",
    "    #print(\"Time: {}\".format(format_time(duration)))\n",
    "    #print(\"Time: {}\".format(duration))\n",
    "    return(duration)\n",
    "\n",
    "def showtime(video, frame_number):\n",
    "    video.set(cv2.CAP_PROP_POS_FRAMES, frame_number)\n",
    "    frame_count = video.get(cv2.CAP_PROP_POS_FRAMES)\n",
    "    duration = video.get(cv2.CAP_PROP_POS_MSEC) #/1000\n",
    "    #print('new_time',frame_count/30)\n",
    "    print('time',duration)\n",
    "    return(duration)\n",
    "\n",
    "def mouse_callback(event, x, y, flags, param):\n",
    "    if event == cv2.EVENT_LBUTTONDOWN:\n",
    "        video = cv2.VideoCapture(video_path)\n",
    "        \n",
    "        frame_count = video.get(cv2.CAP_PROP_POS_FRAMES)\n",
    "        \n",
    "        print(f\"Mouse clicked at ({x}, {y})\")\n",
    "        t = showtime(video,current_frame)\n",
    "        global df\n",
    "        df = pd.concat([df,pd.DataFrame({'t':[t],\n",
    "                                         'frame':[current_frame],\n",
    "                                       'x':[x],\n",
    "                                       'y':[height-y]})],ignore_index = True)\n",
    "        df['t_frames'] = df.frame/30\n",
    "       \n",
    "def main():\n",
    "    global video_path\n",
    "    #video_path = input(\"Enter the path to the video file: \")\n",
    "    video_path = 'video2.mp4' #bre si esta en la misma carpeta que este notebook\n",
    "    video = cv2.VideoCapture(video_path)\n",
    "    \n",
    "    if not video.isOpened():\n",
    "        print(\"Failed to open video file.\")\n",
    "        return\n",
    "\n",
    "    total_frames, fps, duration = get_video_info(video_path)\n",
    "    #print(\"Total Frames: {}\".format(total_frames))\n",
    "    #print(\"FPS: {}\".format(fps))\n",
    "    #print(\"Duration: {} seconds\".format(int(duration)))\n",
    "\n",
    "    global current_frame\n",
    "    current_frame = 0\n",
    "    time = display_frame(video, current_frame)\n",
    "    cv2.setMouseCallback('Video Player', mouse_callback)\n",
    "    while True:\n",
    "        key = cv2.waitKey(0)\n",
    "\n",
    "        if key == ord('q'):\n",
    "            break\n",
    "        elif key == ord('n'):\n",
    "            current_frame += 1\n",
    "            if current_frame >= total_frames:\n",
    "                current_frame = total_frames - 1\n",
    "            display_frame(video, current_frame)\n",
    "        elif key == ord('p'):\n",
    "            current_frame -= 1\n",
    "            if current_frame < 0:\n",
    "                current_frame = 0\n",
    "            display_frame(video, current_frame)\n",
    "        elif key == ord('t'):\n",
    "            showtime(video, current_frame)\n",
    "            #print(\"Time: {}\".format(time))\n",
    "\n",
    "    video.release()\n",
    "    cv2.destroyAllWindows()\n",
    "\n",
    "global df\n",
    "df = pd.DataFrame()\n",
    "if __name__ == '__main__':\n",
    "    main()\n"
   ]
  },
  {
   "cell_type": "code",
   "execution_count": 5,
   "id": "e9bbeb61",
   "metadata": {},
   "outputs": [
    {
     "data": {
      "text/html": [
       "<div>\n",
       "<style scoped>\n",
       "    .dataframe tbody tr th:only-of-type {\n",
       "        vertical-align: middle;\n",
       "    }\n",
       "\n",
       "    .dataframe tbody tr th {\n",
       "        vertical-align: top;\n",
       "    }\n",
       "\n",
       "    .dataframe thead th {\n",
       "        text-align: right;\n",
       "    }\n",
       "</style>\n",
       "<table border=\"1\" class=\"dataframe\">\n",
       "  <thead>\n",
       "    <tr style=\"text-align: right;\">\n",
       "      <th></th>\n",
       "      <th>t</th>\n",
       "      <th>frame</th>\n",
       "      <th>x</th>\n",
       "      <th>y</th>\n",
       "      <th>t_frames</th>\n",
       "    </tr>\n",
       "  </thead>\n",
       "  <tbody>\n",
       "    <tr>\n",
       "      <th>0</th>\n",
       "      <td>2.511111</td>\n",
       "      <td>226</td>\n",
       "      <td>30</td>\n",
       "      <td>232</td>\n",
       "      <td>7.533333</td>\n",
       "    </tr>\n",
       "    <tr>\n",
       "      <th>1</th>\n",
       "      <td>2.522222</td>\n",
       "      <td>227</td>\n",
       "      <td>35</td>\n",
       "      <td>242</td>\n",
       "      <td>7.566667</td>\n",
       "    </tr>\n",
       "    <tr>\n",
       "      <th>2</th>\n",
       "      <td>2.533333</td>\n",
       "      <td>228</td>\n",
       "      <td>44</td>\n",
       "      <td>254</td>\n",
       "      <td>7.600000</td>\n",
       "    </tr>\n",
       "    <tr>\n",
       "      <th>3</th>\n",
       "      <td>2.544444</td>\n",
       "      <td>229</td>\n",
       "      <td>53</td>\n",
       "      <td>266</td>\n",
       "      <td>7.633333</td>\n",
       "    </tr>\n",
       "    <tr>\n",
       "      <th>4</th>\n",
       "      <td>2.555556</td>\n",
       "      <td>230</td>\n",
       "      <td>60</td>\n",
       "      <td>275</td>\n",
       "      <td>7.666667</td>\n",
       "    </tr>\n",
       "    <tr>\n",
       "      <th>...</th>\n",
       "      <td>...</td>\n",
       "      <td>...</td>\n",
       "      <td>...</td>\n",
       "      <td>...</td>\n",
       "      <td>...</td>\n",
       "    </tr>\n",
       "    <tr>\n",
       "      <th>82</th>\n",
       "      <td>3.455556</td>\n",
       "      <td>311</td>\n",
       "      <td>517</td>\n",
       "      <td>352</td>\n",
       "      <td>10.366667</td>\n",
       "    </tr>\n",
       "    <tr>\n",
       "      <th>83</th>\n",
       "      <td>3.466667</td>\n",
       "      <td>312</td>\n",
       "      <td>523</td>\n",
       "      <td>346</td>\n",
       "      <td>10.400000</td>\n",
       "    </tr>\n",
       "    <tr>\n",
       "      <th>84</th>\n",
       "      <td>3.477778</td>\n",
       "      <td>313</td>\n",
       "      <td>529</td>\n",
       "      <td>338</td>\n",
       "      <td>10.433333</td>\n",
       "    </tr>\n",
       "    <tr>\n",
       "      <th>85</th>\n",
       "      <td>3.488889</td>\n",
       "      <td>314</td>\n",
       "      <td>533</td>\n",
       "      <td>331</td>\n",
       "      <td>10.466667</td>\n",
       "    </tr>\n",
       "    <tr>\n",
       "      <th>86</th>\n",
       "      <td>3.500000</td>\n",
       "      <td>315</td>\n",
       "      <td>538</td>\n",
       "      <td>326</td>\n",
       "      <td>10.500000</td>\n",
       "    </tr>\n",
       "  </tbody>\n",
       "</table>\n",
       "<p>87 rows × 5 columns</p>\n",
       "</div>"
      ],
      "text/plain": [
       "           t  frame    x    y   t_frames\n",
       "0   2.511111    226   30  232   7.533333\n",
       "1   2.522222    227   35  242   7.566667\n",
       "2   2.533333    228   44  254   7.600000\n",
       "3   2.544444    229   53  266   7.633333\n",
       "4   2.555556    230   60  275   7.666667\n",
       "..       ...    ...  ...  ...        ...\n",
       "82  3.455556    311  517  352  10.366667\n",
       "83  3.466667    312  523  346  10.400000\n",
       "84  3.477778    313  529  338  10.433333\n",
       "85  3.488889    314  533  331  10.466667\n",
       "86  3.500000    315  538  326  10.500000\n",
       "\n",
       "[87 rows x 5 columns]"
      ]
     },
     "execution_count": 5,
     "metadata": {},
     "output_type": "execute_result"
    }
   ],
   "source": [
    "df"
   ]
  },
  {
   "cell_type": "markdown",
   "id": "dcdad898",
   "metadata": {},
   "source": [
    "## df\n"
   ]
  },
  {
   "cell_type": "code",
   "execution_count": 6,
   "id": "98b3affd",
   "metadata": {},
   "outputs": [],
   "source": [
    "#H:/Mi unidad/Tesis-codigo/datos crudos/Sujeto 4 Datos/S04-C-F-S25.avi\n",
    "df.to_csv ('tiro_oblicuo.csv',index = False)"
   ]
  },
  {
   "cell_type": "markdown",
   "id": "cff69f4a",
   "metadata": {},
   "source": [
    "## Graficar"
   ]
  },
  {
   "cell_type": "code",
   "execution_count": 7,
   "id": "dd19c5cd",
   "metadata": {},
   "outputs": [],
   "source": [
    "import plotly.graph_objects as go\n"
   ]
  },
  {
   "cell_type": "code",
   "execution_count": 9,
   "id": "259a4d11",
   "metadata": {},
   "outputs": [
    {
     "data": {
      "application/vnd.plotly.v1+json": {
       "config": {
        "plotlyServerURL": "https://plot.ly"
       },
       "data": [
        {
         "type": "scatter",
         "x": [
          30,
          35,
          44,
          53,
          60,
          66,
          73,
          80,
          86,
          93,
          107,
          112,
          120,
          126,
          133,
          139,
          157,
          163,
          168,
          175,
          180,
          186,
          193,
          200,
          204,
          212,
          217,
          222,
          228,
          235,
          239,
          246,
          252,
          256,
          263,
          268,
          275,
          279,
          284,
          289,
          294,
          303,
          307,
          310,
          317,
          322,
          328,
          332,
          336,
          343,
          348,
          354,
          362,
          367,
          372,
          375,
          381,
          386,
          390,
          396,
          404,
          409,
          414,
          419,
          425,
          429,
          434,
          440,
          444,
          450,
          455,
          461,
          465,
          472,
          475,
          481,
          487,
          491,
          496,
          502,
          507,
          513,
          517,
          523,
          529,
          533,
          538
         ],
         "y": [
          232,
          242,
          254,
          266,
          275,
          284,
          291,
          302,
          308,
          318,
          334,
          340,
          349,
          357,
          363,
          370,
          388,
          394,
          399,
          405,
          409,
          414,
          419,
          425,
          428,
          432,
          437,
          440,
          444,
          447,
          449,
          451,
          455,
          458,
          459,
          463,
          465,
          466,
          468,
          469,
          470,
          471,
          471,
          472,
          473,
          474,
          474,
          474,
          474,
          472,
          471,
          469,
          468,
          467,
          465,
          465,
          463,
          461,
          458,
          457,
          454,
          450,
          448,
          444,
          441,
          438,
          434,
          430,
          427,
          422,
          418,
          414,
          409,
          402,
          400,
          395,
          386,
          382,
          378,
          371,
          365,
          359,
          352,
          346,
          338,
          331,
          326
         ]
        }
       ],
       "layout": {
        "template": {
         "data": {
          "bar": [
           {
            "error_x": {
             "color": "#2a3f5f"
            },
            "error_y": {
             "color": "#2a3f5f"
            },
            "marker": {
             "line": {
              "color": "#E5ECF6",
              "width": 0.5
             },
             "pattern": {
              "fillmode": "overlay",
              "size": 10,
              "solidity": 0.2
             }
            },
            "type": "bar"
           }
          ],
          "barpolar": [
           {
            "marker": {
             "line": {
              "color": "#E5ECF6",
              "width": 0.5
             },
             "pattern": {
              "fillmode": "overlay",
              "size": 10,
              "solidity": 0.2
             }
            },
            "type": "barpolar"
           }
          ],
          "carpet": [
           {
            "aaxis": {
             "endlinecolor": "#2a3f5f",
             "gridcolor": "white",
             "linecolor": "white",
             "minorgridcolor": "white",
             "startlinecolor": "#2a3f5f"
            },
            "baxis": {
             "endlinecolor": "#2a3f5f",
             "gridcolor": "white",
             "linecolor": "white",
             "minorgridcolor": "white",
             "startlinecolor": "#2a3f5f"
            },
            "type": "carpet"
           }
          ],
          "choropleth": [
           {
            "colorbar": {
             "outlinewidth": 0,
             "ticks": ""
            },
            "type": "choropleth"
           }
          ],
          "contour": [
           {
            "colorbar": {
             "outlinewidth": 0,
             "ticks": ""
            },
            "colorscale": [
             [
              0,
              "#0d0887"
             ],
             [
              0.1111111111111111,
              "#46039f"
             ],
             [
              0.2222222222222222,
              "#7201a8"
             ],
             [
              0.3333333333333333,
              "#9c179e"
             ],
             [
              0.4444444444444444,
              "#bd3786"
             ],
             [
              0.5555555555555556,
              "#d8576b"
             ],
             [
              0.6666666666666666,
              "#ed7953"
             ],
             [
              0.7777777777777778,
              "#fb9f3a"
             ],
             [
              0.8888888888888888,
              "#fdca26"
             ],
             [
              1,
              "#f0f921"
             ]
            ],
            "type": "contour"
           }
          ],
          "contourcarpet": [
           {
            "colorbar": {
             "outlinewidth": 0,
             "ticks": ""
            },
            "type": "contourcarpet"
           }
          ],
          "heatmap": [
           {
            "colorbar": {
             "outlinewidth": 0,
             "ticks": ""
            },
            "colorscale": [
             [
              0,
              "#0d0887"
             ],
             [
              0.1111111111111111,
              "#46039f"
             ],
             [
              0.2222222222222222,
              "#7201a8"
             ],
             [
              0.3333333333333333,
              "#9c179e"
             ],
             [
              0.4444444444444444,
              "#bd3786"
             ],
             [
              0.5555555555555556,
              "#d8576b"
             ],
             [
              0.6666666666666666,
              "#ed7953"
             ],
             [
              0.7777777777777778,
              "#fb9f3a"
             ],
             [
              0.8888888888888888,
              "#fdca26"
             ],
             [
              1,
              "#f0f921"
             ]
            ],
            "type": "heatmap"
           }
          ],
          "heatmapgl": [
           {
            "colorbar": {
             "outlinewidth": 0,
             "ticks": ""
            },
            "colorscale": [
             [
              0,
              "#0d0887"
             ],
             [
              0.1111111111111111,
              "#46039f"
             ],
             [
              0.2222222222222222,
              "#7201a8"
             ],
             [
              0.3333333333333333,
              "#9c179e"
             ],
             [
              0.4444444444444444,
              "#bd3786"
             ],
             [
              0.5555555555555556,
              "#d8576b"
             ],
             [
              0.6666666666666666,
              "#ed7953"
             ],
             [
              0.7777777777777778,
              "#fb9f3a"
             ],
             [
              0.8888888888888888,
              "#fdca26"
             ],
             [
              1,
              "#f0f921"
             ]
            ],
            "type": "heatmapgl"
           }
          ],
          "histogram": [
           {
            "marker": {
             "pattern": {
              "fillmode": "overlay",
              "size": 10,
              "solidity": 0.2
             }
            },
            "type": "histogram"
           }
          ],
          "histogram2d": [
           {
            "colorbar": {
             "outlinewidth": 0,
             "ticks": ""
            },
            "colorscale": [
             [
              0,
              "#0d0887"
             ],
             [
              0.1111111111111111,
              "#46039f"
             ],
             [
              0.2222222222222222,
              "#7201a8"
             ],
             [
              0.3333333333333333,
              "#9c179e"
             ],
             [
              0.4444444444444444,
              "#bd3786"
             ],
             [
              0.5555555555555556,
              "#d8576b"
             ],
             [
              0.6666666666666666,
              "#ed7953"
             ],
             [
              0.7777777777777778,
              "#fb9f3a"
             ],
             [
              0.8888888888888888,
              "#fdca26"
             ],
             [
              1,
              "#f0f921"
             ]
            ],
            "type": "histogram2d"
           }
          ],
          "histogram2dcontour": [
           {
            "colorbar": {
             "outlinewidth": 0,
             "ticks": ""
            },
            "colorscale": [
             [
              0,
              "#0d0887"
             ],
             [
              0.1111111111111111,
              "#46039f"
             ],
             [
              0.2222222222222222,
              "#7201a8"
             ],
             [
              0.3333333333333333,
              "#9c179e"
             ],
             [
              0.4444444444444444,
              "#bd3786"
             ],
             [
              0.5555555555555556,
              "#d8576b"
             ],
             [
              0.6666666666666666,
              "#ed7953"
             ],
             [
              0.7777777777777778,
              "#fb9f3a"
             ],
             [
              0.8888888888888888,
              "#fdca26"
             ],
             [
              1,
              "#f0f921"
             ]
            ],
            "type": "histogram2dcontour"
           }
          ],
          "mesh3d": [
           {
            "colorbar": {
             "outlinewidth": 0,
             "ticks": ""
            },
            "type": "mesh3d"
           }
          ],
          "parcoords": [
           {
            "line": {
             "colorbar": {
              "outlinewidth": 0,
              "ticks": ""
             }
            },
            "type": "parcoords"
           }
          ],
          "pie": [
           {
            "automargin": true,
            "type": "pie"
           }
          ],
          "scatter": [
           {
            "fillpattern": {
             "fillmode": "overlay",
             "size": 10,
             "solidity": 0.2
            },
            "type": "scatter"
           }
          ],
          "scatter3d": [
           {
            "line": {
             "colorbar": {
              "outlinewidth": 0,
              "ticks": ""
             }
            },
            "marker": {
             "colorbar": {
              "outlinewidth": 0,
              "ticks": ""
             }
            },
            "type": "scatter3d"
           }
          ],
          "scattercarpet": [
           {
            "marker": {
             "colorbar": {
              "outlinewidth": 0,
              "ticks": ""
             }
            },
            "type": "scattercarpet"
           }
          ],
          "scattergeo": [
           {
            "marker": {
             "colorbar": {
              "outlinewidth": 0,
              "ticks": ""
             }
            },
            "type": "scattergeo"
           }
          ],
          "scattergl": [
           {
            "marker": {
             "colorbar": {
              "outlinewidth": 0,
              "ticks": ""
             }
            },
            "type": "scattergl"
           }
          ],
          "scattermapbox": [
           {
            "marker": {
             "colorbar": {
              "outlinewidth": 0,
              "ticks": ""
             }
            },
            "type": "scattermapbox"
           }
          ],
          "scatterpolar": [
           {
            "marker": {
             "colorbar": {
              "outlinewidth": 0,
              "ticks": ""
             }
            },
            "type": "scatterpolar"
           }
          ],
          "scatterpolargl": [
           {
            "marker": {
             "colorbar": {
              "outlinewidth": 0,
              "ticks": ""
             }
            },
            "type": "scatterpolargl"
           }
          ],
          "scatterternary": [
           {
            "marker": {
             "colorbar": {
              "outlinewidth": 0,
              "ticks": ""
             }
            },
            "type": "scatterternary"
           }
          ],
          "surface": [
           {
            "colorbar": {
             "outlinewidth": 0,
             "ticks": ""
            },
            "colorscale": [
             [
              0,
              "#0d0887"
             ],
             [
              0.1111111111111111,
              "#46039f"
             ],
             [
              0.2222222222222222,
              "#7201a8"
             ],
             [
              0.3333333333333333,
              "#9c179e"
             ],
             [
              0.4444444444444444,
              "#bd3786"
             ],
             [
              0.5555555555555556,
              "#d8576b"
             ],
             [
              0.6666666666666666,
              "#ed7953"
             ],
             [
              0.7777777777777778,
              "#fb9f3a"
             ],
             [
              0.8888888888888888,
              "#fdca26"
             ],
             [
              1,
              "#f0f921"
             ]
            ],
            "type": "surface"
           }
          ],
          "table": [
           {
            "cells": {
             "fill": {
              "color": "#EBF0F8"
             },
             "line": {
              "color": "white"
             }
            },
            "header": {
             "fill": {
              "color": "#C8D4E3"
             },
             "line": {
              "color": "white"
             }
            },
            "type": "table"
           }
          ]
         },
         "layout": {
          "annotationdefaults": {
           "arrowcolor": "#2a3f5f",
           "arrowhead": 0,
           "arrowwidth": 1
          },
          "autotypenumbers": "strict",
          "coloraxis": {
           "colorbar": {
            "outlinewidth": 0,
            "ticks": ""
           }
          },
          "colorscale": {
           "diverging": [
            [
             0,
             "#8e0152"
            ],
            [
             0.1,
             "#c51b7d"
            ],
            [
             0.2,
             "#de77ae"
            ],
            [
             0.3,
             "#f1b6da"
            ],
            [
             0.4,
             "#fde0ef"
            ],
            [
             0.5,
             "#f7f7f7"
            ],
            [
             0.6,
             "#e6f5d0"
            ],
            [
             0.7,
             "#b8e186"
            ],
            [
             0.8,
             "#7fbc41"
            ],
            [
             0.9,
             "#4d9221"
            ],
            [
             1,
             "#276419"
            ]
           ],
           "sequential": [
            [
             0,
             "#0d0887"
            ],
            [
             0.1111111111111111,
             "#46039f"
            ],
            [
             0.2222222222222222,
             "#7201a8"
            ],
            [
             0.3333333333333333,
             "#9c179e"
            ],
            [
             0.4444444444444444,
             "#bd3786"
            ],
            [
             0.5555555555555556,
             "#d8576b"
            ],
            [
             0.6666666666666666,
             "#ed7953"
            ],
            [
             0.7777777777777778,
             "#fb9f3a"
            ],
            [
             0.8888888888888888,
             "#fdca26"
            ],
            [
             1,
             "#f0f921"
            ]
           ],
           "sequentialminus": [
            [
             0,
             "#0d0887"
            ],
            [
             0.1111111111111111,
             "#46039f"
            ],
            [
             0.2222222222222222,
             "#7201a8"
            ],
            [
             0.3333333333333333,
             "#9c179e"
            ],
            [
             0.4444444444444444,
             "#bd3786"
            ],
            [
             0.5555555555555556,
             "#d8576b"
            ],
            [
             0.6666666666666666,
             "#ed7953"
            ],
            [
             0.7777777777777778,
             "#fb9f3a"
            ],
            [
             0.8888888888888888,
             "#fdca26"
            ],
            [
             1,
             "#f0f921"
            ]
           ]
          },
          "colorway": [
           "#636efa",
           "#EF553B",
           "#00cc96",
           "#ab63fa",
           "#FFA15A",
           "#19d3f3",
           "#FF6692",
           "#B6E880",
           "#FF97FF",
           "#FECB52"
          ],
          "font": {
           "color": "#2a3f5f"
          },
          "geo": {
           "bgcolor": "white",
           "lakecolor": "white",
           "landcolor": "#E5ECF6",
           "showlakes": true,
           "showland": true,
           "subunitcolor": "white"
          },
          "hoverlabel": {
           "align": "left"
          },
          "hovermode": "closest",
          "mapbox": {
           "style": "light"
          },
          "paper_bgcolor": "white",
          "plot_bgcolor": "#E5ECF6",
          "polar": {
           "angularaxis": {
            "gridcolor": "white",
            "linecolor": "white",
            "ticks": ""
           },
           "bgcolor": "#E5ECF6",
           "radialaxis": {
            "gridcolor": "white",
            "linecolor": "white",
            "ticks": ""
           }
          },
          "scene": {
           "xaxis": {
            "backgroundcolor": "#E5ECF6",
            "gridcolor": "white",
            "gridwidth": 2,
            "linecolor": "white",
            "showbackground": true,
            "ticks": "",
            "zerolinecolor": "white"
           },
           "yaxis": {
            "backgroundcolor": "#E5ECF6",
            "gridcolor": "white",
            "gridwidth": 2,
            "linecolor": "white",
            "showbackground": true,
            "ticks": "",
            "zerolinecolor": "white"
           },
           "zaxis": {
            "backgroundcolor": "#E5ECF6",
            "gridcolor": "white",
            "gridwidth": 2,
            "linecolor": "white",
            "showbackground": true,
            "ticks": "",
            "zerolinecolor": "white"
           }
          },
          "shapedefaults": {
           "line": {
            "color": "#2a3f5f"
           }
          },
          "ternary": {
           "aaxis": {
            "gridcolor": "white",
            "linecolor": "white",
            "ticks": ""
           },
           "baxis": {
            "gridcolor": "white",
            "linecolor": "white",
            "ticks": ""
           },
           "bgcolor": "#E5ECF6",
           "caxis": {
            "gridcolor": "white",
            "linecolor": "white",
            "ticks": ""
           }
          },
          "title": {
           "x": 0.05
          },
          "xaxis": {
           "automargin": true,
           "gridcolor": "white",
           "linecolor": "white",
           "ticks": "",
           "title": {
            "standoff": 15
           },
           "zerolinecolor": "white",
           "zerolinewidth": 2
          },
          "yaxis": {
           "automargin": true,
           "gridcolor": "white",
           "linecolor": "white",
           "ticks": "",
           "title": {
            "standoff": 15
           },
           "zerolinecolor": "white",
           "zerolinewidth": 2
          }
         }
        }
       }
      }
     },
     "metadata": {},
     "output_type": "display_data"
    }
   ],
   "source": [
    "fig = go.Figure()\n",
    "fig.add_traces(go.Scatter( x = df.x, y=df.y))"
   ]
  },
  {
   "cell_type": "code",
   "execution_count": 15,
   "id": "5acd3b3a",
   "metadata": {},
   "outputs": [],
   "source": [
    "def estetica(figura,x_name = '',y_name = '',title = '',w = 400,h = 325):\n",
    "    \n",
    "    figura.update_xaxes(showgrid=False,showline=True, linewidth=2, linecolor='black', mirror=True,title = x_name)#'cccccccccccccccc')\n",
    "    figura.update_yaxes(showgrid=False,showline=True, linewidth=2, linecolor='black', mirror=True,title =y_name)\n",
    "\n",
    "\n",
    "    figura.update_layout(\n",
    "        margin=dict(l=20, r=20, t=40, b=20),\n",
    "        plot_bgcolor=\"white\",\n",
    "        template=\"plotly_white\", \n",
    "        title=title,\n",
    "        autosize=False,\n",
    "        width=w,\n",
    "        height=h,\n",
    "        #yaxis = dict(range=[0,1]),\n",
    "        #xaxis = dict(range=[0,1]),\n",
    "        title_font = dict(size =20),\n",
    "        legend=dict(orientation = 'v',\n",
    "                    font = dict(size = 18),\n",
    "                     yanchor=\"top\",\n",
    "                     y=0.95,\n",
    "                     xanchor=\"left\",\n",
    "                     x=0.05,\n",
    "                     bgcolor='rgba(255,255,255,0)',\n",
    "                   )\n",
    "    )"
   ]
  },
  {
   "cell_type": "code",
   "execution_count": 16,
   "id": "320bf8c4",
   "metadata": {},
   "outputs": [
    {
     "data": {
      "application/vnd.plotly.v1+json": {
       "config": {
        "plotlyServerURL": "https://plot.ly"
       },
       "data": [
        {
         "name": "X",
         "type": "scatter",
         "x": [
          2.511111111111111,
          2.522222222222222,
          2.5333333333333337,
          2.5444444444444447,
          2.555555555555556,
          2.566666666666667,
          2.577777777777778,
          2.588888888888889,
          2.6000000000000005,
          2.611111111111111,
          2.6333333333333333,
          2.6444444444444444,
          2.6555555555555554,
          2.666666666666667,
          2.677777777777778,
          2.688888888888889,
          2.7222222222222223,
          2.7333333333333334,
          2.744444444444445,
          2.755555555555556,
          2.766666666666667,
          2.7777777777777777,
          2.7888888888888888,
          2.8,
          2.8111111111111113,
          2.8222222222222224,
          2.8333333333333335,
          2.8444444444444446,
          2.8555555555555556,
          2.8666666666666667,
          2.8777777777777778,
          2.8888888888888893,
          2.9000000000000004,
          2.9111111111111114,
          2.9222222222222225,
          2.9333333333333336,
          2.944444444444444,
          2.9555555555555557,
          2.966666666666667,
          2.977777777777778,
          2.988888888888889,
          3,
          3.011111111111111,
          3.022222222222222,
          3.0333333333333337,
          3.0444444444444447,
          3.055555555555556,
          3.066666666666667,
          3.077777777777778,
          3.088888888888889,
          3.1000000000000005,
          3.111111111111111,
          3.1222222222222222,
          3.1333333333333333,
          3.1444444444444444,
          3.1555555555555554,
          3.166666666666667,
          3.177777777777778,
          3.188888888888889,
          3.2,
          3.2111111111111112,
          3.2222222222222223,
          3.2333333333333334,
          3.244444444444445,
          3.255555555555556,
          3.266666666666667,
          3.2777777777777777,
          3.2888888888888888,
          3.3,
          3.3111111111111113,
          3.3222222222222224,
          3.3333333333333335,
          3.3444444444444446,
          3.3555555555555556,
          3.3666666666666667,
          3.377777777777778,
          3.3888888888888893,
          3.4000000000000004,
          3.4111111111111114,
          3.4222222222222225,
          3.4333333333333336,
          3.4444444444444446,
          3.4555555555555557,
          3.466666666666667,
          3.477777777777778,
          3.488888888888889,
          3.5
         ],
         "y": [
          30,
          35,
          44,
          53,
          60,
          66,
          73,
          80,
          86,
          93,
          107,
          112,
          120,
          126,
          133,
          139,
          157,
          163,
          168,
          175,
          180,
          186,
          193,
          200,
          204,
          212,
          217,
          222,
          228,
          235,
          239,
          246,
          252,
          256,
          263,
          268,
          275,
          279,
          284,
          289,
          294,
          303,
          307,
          310,
          317,
          322,
          328,
          332,
          336,
          343,
          348,
          354,
          362,
          367,
          372,
          375,
          381,
          386,
          390,
          396,
          404,
          409,
          414,
          419,
          425,
          429,
          434,
          440,
          444,
          450,
          455,
          461,
          465,
          472,
          475,
          481,
          487,
          491,
          496,
          502,
          507,
          513,
          517,
          523,
          529,
          533,
          538
         ]
        },
        {
         "name": "Y",
         "type": "scatter",
         "x": [
          2.511111111111111,
          2.522222222222222,
          2.5333333333333337,
          2.5444444444444447,
          2.555555555555556,
          2.566666666666667,
          2.577777777777778,
          2.588888888888889,
          2.6000000000000005,
          2.611111111111111,
          2.6333333333333333,
          2.6444444444444444,
          2.6555555555555554,
          2.666666666666667,
          2.677777777777778,
          2.688888888888889,
          2.7222222222222223,
          2.7333333333333334,
          2.744444444444445,
          2.755555555555556,
          2.766666666666667,
          2.7777777777777777,
          2.7888888888888888,
          2.8,
          2.8111111111111113,
          2.8222222222222224,
          2.8333333333333335,
          2.8444444444444446,
          2.8555555555555556,
          2.8666666666666667,
          2.8777777777777778,
          2.8888888888888893,
          2.9000000000000004,
          2.9111111111111114,
          2.9222222222222225,
          2.9333333333333336,
          2.944444444444444,
          2.9555555555555557,
          2.966666666666667,
          2.977777777777778,
          2.988888888888889,
          3,
          3.011111111111111,
          3.022222222222222,
          3.0333333333333337,
          3.0444444444444447,
          3.055555555555556,
          3.066666666666667,
          3.077777777777778,
          3.088888888888889,
          3.1000000000000005,
          3.111111111111111,
          3.1222222222222222,
          3.1333333333333333,
          3.1444444444444444,
          3.1555555555555554,
          3.166666666666667,
          3.177777777777778,
          3.188888888888889,
          3.2,
          3.2111111111111112,
          3.2222222222222223,
          3.2333333333333334,
          3.244444444444445,
          3.255555555555556,
          3.266666666666667,
          3.2777777777777777,
          3.2888888888888888,
          3.3,
          3.3111111111111113,
          3.3222222222222224,
          3.3333333333333335,
          3.3444444444444446,
          3.3555555555555556,
          3.3666666666666667,
          3.377777777777778,
          3.3888888888888893,
          3.4000000000000004,
          3.4111111111111114,
          3.4222222222222225,
          3.4333333333333336,
          3.4444444444444446,
          3.4555555555555557,
          3.466666666666667,
          3.477777777777778,
          3.488888888888889,
          3.5
         ],
         "y": [
          232,
          242,
          254,
          266,
          275,
          284,
          291,
          302,
          308,
          318,
          334,
          340,
          349,
          357,
          363,
          370,
          388,
          394,
          399,
          405,
          409,
          414,
          419,
          425,
          428,
          432,
          437,
          440,
          444,
          447,
          449,
          451,
          455,
          458,
          459,
          463,
          465,
          466,
          468,
          469,
          470,
          471,
          471,
          472,
          473,
          474,
          474,
          474,
          474,
          472,
          471,
          469,
          468,
          467,
          465,
          465,
          463,
          461,
          458,
          457,
          454,
          450,
          448,
          444,
          441,
          438,
          434,
          430,
          427,
          422,
          418,
          414,
          409,
          402,
          400,
          395,
          386,
          382,
          378,
          371,
          365,
          359,
          352,
          346,
          338,
          331,
          326
         ]
        }
       ],
       "layout": {
        "autosize": false,
        "height": 500,
        "legend": {
         "bgcolor": "rgba(255,255,255,0)",
         "font": {
          "size": 18
         },
         "orientation": "v",
         "x": 0.05,
         "xanchor": "left",
         "y": 0.95,
         "yanchor": "top"
        },
        "margin": {
         "b": 20,
         "l": 20,
         "r": 20,
         "t": 40
        },
        "plot_bgcolor": "white",
        "template": {
         "data": {
          "bar": [
           {
            "error_x": {
             "color": "#2a3f5f"
            },
            "error_y": {
             "color": "#2a3f5f"
            },
            "marker": {
             "line": {
              "color": "white",
              "width": 0.5
             },
             "pattern": {
              "fillmode": "overlay",
              "size": 10,
              "solidity": 0.2
             }
            },
            "type": "bar"
           }
          ],
          "barpolar": [
           {
            "marker": {
             "line": {
              "color": "white",
              "width": 0.5
             },
             "pattern": {
              "fillmode": "overlay",
              "size": 10,
              "solidity": 0.2
             }
            },
            "type": "barpolar"
           }
          ],
          "carpet": [
           {
            "aaxis": {
             "endlinecolor": "#2a3f5f",
             "gridcolor": "#C8D4E3",
             "linecolor": "#C8D4E3",
             "minorgridcolor": "#C8D4E3",
             "startlinecolor": "#2a3f5f"
            },
            "baxis": {
             "endlinecolor": "#2a3f5f",
             "gridcolor": "#C8D4E3",
             "linecolor": "#C8D4E3",
             "minorgridcolor": "#C8D4E3",
             "startlinecolor": "#2a3f5f"
            },
            "type": "carpet"
           }
          ],
          "choropleth": [
           {
            "colorbar": {
             "outlinewidth": 0,
             "ticks": ""
            },
            "type": "choropleth"
           }
          ],
          "contour": [
           {
            "colorbar": {
             "outlinewidth": 0,
             "ticks": ""
            },
            "colorscale": [
             [
              0,
              "#0d0887"
             ],
             [
              0.1111111111111111,
              "#46039f"
             ],
             [
              0.2222222222222222,
              "#7201a8"
             ],
             [
              0.3333333333333333,
              "#9c179e"
             ],
             [
              0.4444444444444444,
              "#bd3786"
             ],
             [
              0.5555555555555556,
              "#d8576b"
             ],
             [
              0.6666666666666666,
              "#ed7953"
             ],
             [
              0.7777777777777778,
              "#fb9f3a"
             ],
             [
              0.8888888888888888,
              "#fdca26"
             ],
             [
              1,
              "#f0f921"
             ]
            ],
            "type": "contour"
           }
          ],
          "contourcarpet": [
           {
            "colorbar": {
             "outlinewidth": 0,
             "ticks": ""
            },
            "type": "contourcarpet"
           }
          ],
          "heatmap": [
           {
            "colorbar": {
             "outlinewidth": 0,
             "ticks": ""
            },
            "colorscale": [
             [
              0,
              "#0d0887"
             ],
             [
              0.1111111111111111,
              "#46039f"
             ],
             [
              0.2222222222222222,
              "#7201a8"
             ],
             [
              0.3333333333333333,
              "#9c179e"
             ],
             [
              0.4444444444444444,
              "#bd3786"
             ],
             [
              0.5555555555555556,
              "#d8576b"
             ],
             [
              0.6666666666666666,
              "#ed7953"
             ],
             [
              0.7777777777777778,
              "#fb9f3a"
             ],
             [
              0.8888888888888888,
              "#fdca26"
             ],
             [
              1,
              "#f0f921"
             ]
            ],
            "type": "heatmap"
           }
          ],
          "heatmapgl": [
           {
            "colorbar": {
             "outlinewidth": 0,
             "ticks": ""
            },
            "colorscale": [
             [
              0,
              "#0d0887"
             ],
             [
              0.1111111111111111,
              "#46039f"
             ],
             [
              0.2222222222222222,
              "#7201a8"
             ],
             [
              0.3333333333333333,
              "#9c179e"
             ],
             [
              0.4444444444444444,
              "#bd3786"
             ],
             [
              0.5555555555555556,
              "#d8576b"
             ],
             [
              0.6666666666666666,
              "#ed7953"
             ],
             [
              0.7777777777777778,
              "#fb9f3a"
             ],
             [
              0.8888888888888888,
              "#fdca26"
             ],
             [
              1,
              "#f0f921"
             ]
            ],
            "type": "heatmapgl"
           }
          ],
          "histogram": [
           {
            "marker": {
             "pattern": {
              "fillmode": "overlay",
              "size": 10,
              "solidity": 0.2
             }
            },
            "type": "histogram"
           }
          ],
          "histogram2d": [
           {
            "colorbar": {
             "outlinewidth": 0,
             "ticks": ""
            },
            "colorscale": [
             [
              0,
              "#0d0887"
             ],
             [
              0.1111111111111111,
              "#46039f"
             ],
             [
              0.2222222222222222,
              "#7201a8"
             ],
             [
              0.3333333333333333,
              "#9c179e"
             ],
             [
              0.4444444444444444,
              "#bd3786"
             ],
             [
              0.5555555555555556,
              "#d8576b"
             ],
             [
              0.6666666666666666,
              "#ed7953"
             ],
             [
              0.7777777777777778,
              "#fb9f3a"
             ],
             [
              0.8888888888888888,
              "#fdca26"
             ],
             [
              1,
              "#f0f921"
             ]
            ],
            "type": "histogram2d"
           }
          ],
          "histogram2dcontour": [
           {
            "colorbar": {
             "outlinewidth": 0,
             "ticks": ""
            },
            "colorscale": [
             [
              0,
              "#0d0887"
             ],
             [
              0.1111111111111111,
              "#46039f"
             ],
             [
              0.2222222222222222,
              "#7201a8"
             ],
             [
              0.3333333333333333,
              "#9c179e"
             ],
             [
              0.4444444444444444,
              "#bd3786"
             ],
             [
              0.5555555555555556,
              "#d8576b"
             ],
             [
              0.6666666666666666,
              "#ed7953"
             ],
             [
              0.7777777777777778,
              "#fb9f3a"
             ],
             [
              0.8888888888888888,
              "#fdca26"
             ],
             [
              1,
              "#f0f921"
             ]
            ],
            "type": "histogram2dcontour"
           }
          ],
          "mesh3d": [
           {
            "colorbar": {
             "outlinewidth": 0,
             "ticks": ""
            },
            "type": "mesh3d"
           }
          ],
          "parcoords": [
           {
            "line": {
             "colorbar": {
              "outlinewidth": 0,
              "ticks": ""
             }
            },
            "type": "parcoords"
           }
          ],
          "pie": [
           {
            "automargin": true,
            "type": "pie"
           }
          ],
          "scatter": [
           {
            "fillpattern": {
             "fillmode": "overlay",
             "size": 10,
             "solidity": 0.2
            },
            "type": "scatter"
           }
          ],
          "scatter3d": [
           {
            "line": {
             "colorbar": {
              "outlinewidth": 0,
              "ticks": ""
             }
            },
            "marker": {
             "colorbar": {
              "outlinewidth": 0,
              "ticks": ""
             }
            },
            "type": "scatter3d"
           }
          ],
          "scattercarpet": [
           {
            "marker": {
             "colorbar": {
              "outlinewidth": 0,
              "ticks": ""
             }
            },
            "type": "scattercarpet"
           }
          ],
          "scattergeo": [
           {
            "marker": {
             "colorbar": {
              "outlinewidth": 0,
              "ticks": ""
             }
            },
            "type": "scattergeo"
           }
          ],
          "scattergl": [
           {
            "marker": {
             "colorbar": {
              "outlinewidth": 0,
              "ticks": ""
             }
            },
            "type": "scattergl"
           }
          ],
          "scattermapbox": [
           {
            "marker": {
             "colorbar": {
              "outlinewidth": 0,
              "ticks": ""
             }
            },
            "type": "scattermapbox"
           }
          ],
          "scatterpolar": [
           {
            "marker": {
             "colorbar": {
              "outlinewidth": 0,
              "ticks": ""
             }
            },
            "type": "scatterpolar"
           }
          ],
          "scatterpolargl": [
           {
            "marker": {
             "colorbar": {
              "outlinewidth": 0,
              "ticks": ""
             }
            },
            "type": "scatterpolargl"
           }
          ],
          "scatterternary": [
           {
            "marker": {
             "colorbar": {
              "outlinewidth": 0,
              "ticks": ""
             }
            },
            "type": "scatterternary"
           }
          ],
          "surface": [
           {
            "colorbar": {
             "outlinewidth": 0,
             "ticks": ""
            },
            "colorscale": [
             [
              0,
              "#0d0887"
             ],
             [
              0.1111111111111111,
              "#46039f"
             ],
             [
              0.2222222222222222,
              "#7201a8"
             ],
             [
              0.3333333333333333,
              "#9c179e"
             ],
             [
              0.4444444444444444,
              "#bd3786"
             ],
             [
              0.5555555555555556,
              "#d8576b"
             ],
             [
              0.6666666666666666,
              "#ed7953"
             ],
             [
              0.7777777777777778,
              "#fb9f3a"
             ],
             [
              0.8888888888888888,
              "#fdca26"
             ],
             [
              1,
              "#f0f921"
             ]
            ],
            "type": "surface"
           }
          ],
          "table": [
           {
            "cells": {
             "fill": {
              "color": "#EBF0F8"
             },
             "line": {
              "color": "white"
             }
            },
            "header": {
             "fill": {
              "color": "#C8D4E3"
             },
             "line": {
              "color": "white"
             }
            },
            "type": "table"
           }
          ]
         },
         "layout": {
          "annotationdefaults": {
           "arrowcolor": "#2a3f5f",
           "arrowhead": 0,
           "arrowwidth": 1
          },
          "autotypenumbers": "strict",
          "coloraxis": {
           "colorbar": {
            "outlinewidth": 0,
            "ticks": ""
           }
          },
          "colorscale": {
           "diverging": [
            [
             0,
             "#8e0152"
            ],
            [
             0.1,
             "#c51b7d"
            ],
            [
             0.2,
             "#de77ae"
            ],
            [
             0.3,
             "#f1b6da"
            ],
            [
             0.4,
             "#fde0ef"
            ],
            [
             0.5,
             "#f7f7f7"
            ],
            [
             0.6,
             "#e6f5d0"
            ],
            [
             0.7,
             "#b8e186"
            ],
            [
             0.8,
             "#7fbc41"
            ],
            [
             0.9,
             "#4d9221"
            ],
            [
             1,
             "#276419"
            ]
           ],
           "sequential": [
            [
             0,
             "#0d0887"
            ],
            [
             0.1111111111111111,
             "#46039f"
            ],
            [
             0.2222222222222222,
             "#7201a8"
            ],
            [
             0.3333333333333333,
             "#9c179e"
            ],
            [
             0.4444444444444444,
             "#bd3786"
            ],
            [
             0.5555555555555556,
             "#d8576b"
            ],
            [
             0.6666666666666666,
             "#ed7953"
            ],
            [
             0.7777777777777778,
             "#fb9f3a"
            ],
            [
             0.8888888888888888,
             "#fdca26"
            ],
            [
             1,
             "#f0f921"
            ]
           ],
           "sequentialminus": [
            [
             0,
             "#0d0887"
            ],
            [
             0.1111111111111111,
             "#46039f"
            ],
            [
             0.2222222222222222,
             "#7201a8"
            ],
            [
             0.3333333333333333,
             "#9c179e"
            ],
            [
             0.4444444444444444,
             "#bd3786"
            ],
            [
             0.5555555555555556,
             "#d8576b"
            ],
            [
             0.6666666666666666,
             "#ed7953"
            ],
            [
             0.7777777777777778,
             "#fb9f3a"
            ],
            [
             0.8888888888888888,
             "#fdca26"
            ],
            [
             1,
             "#f0f921"
            ]
           ]
          },
          "colorway": [
           "#636efa",
           "#EF553B",
           "#00cc96",
           "#ab63fa",
           "#FFA15A",
           "#19d3f3",
           "#FF6692",
           "#B6E880",
           "#FF97FF",
           "#FECB52"
          ],
          "font": {
           "color": "#2a3f5f"
          },
          "geo": {
           "bgcolor": "white",
           "lakecolor": "white",
           "landcolor": "white",
           "showlakes": true,
           "showland": true,
           "subunitcolor": "#C8D4E3"
          },
          "hoverlabel": {
           "align": "left"
          },
          "hovermode": "closest",
          "mapbox": {
           "style": "light"
          },
          "paper_bgcolor": "white",
          "plot_bgcolor": "white",
          "polar": {
           "angularaxis": {
            "gridcolor": "#EBF0F8",
            "linecolor": "#EBF0F8",
            "ticks": ""
           },
           "bgcolor": "white",
           "radialaxis": {
            "gridcolor": "#EBF0F8",
            "linecolor": "#EBF0F8",
            "ticks": ""
           }
          },
          "scene": {
           "xaxis": {
            "backgroundcolor": "white",
            "gridcolor": "#DFE8F3",
            "gridwidth": 2,
            "linecolor": "#EBF0F8",
            "showbackground": true,
            "ticks": "",
            "zerolinecolor": "#EBF0F8"
           },
           "yaxis": {
            "backgroundcolor": "white",
            "gridcolor": "#DFE8F3",
            "gridwidth": 2,
            "linecolor": "#EBF0F8",
            "showbackground": true,
            "ticks": "",
            "zerolinecolor": "#EBF0F8"
           },
           "zaxis": {
            "backgroundcolor": "white",
            "gridcolor": "#DFE8F3",
            "gridwidth": 2,
            "linecolor": "#EBF0F8",
            "showbackground": true,
            "ticks": "",
            "zerolinecolor": "#EBF0F8"
           }
          },
          "shapedefaults": {
           "line": {
            "color": "#2a3f5f"
           }
          },
          "ternary": {
           "aaxis": {
            "gridcolor": "#DFE8F3",
            "linecolor": "#A2B1C6",
            "ticks": ""
           },
           "baxis": {
            "gridcolor": "#DFE8F3",
            "linecolor": "#A2B1C6",
            "ticks": ""
           },
           "bgcolor": "white",
           "caxis": {
            "gridcolor": "#DFE8F3",
            "linecolor": "#A2B1C6",
            "ticks": ""
           }
          },
          "title": {
           "x": 0.05
          },
          "xaxis": {
           "automargin": true,
           "gridcolor": "#EBF0F8",
           "linecolor": "#EBF0F8",
           "ticks": "",
           "title": {
            "standoff": 15
           },
           "zerolinecolor": "#EBF0F8",
           "zerolinewidth": 2
          },
          "yaxis": {
           "automargin": true,
           "gridcolor": "#EBF0F8",
           "linecolor": "#EBF0F8",
           "ticks": "",
           "title": {
            "standoff": 15
           },
           "zerolinecolor": "#EBF0F8",
           "zerolinewidth": 2
          }
         }
        },
        "title": {
         "font": {
          "size": 20
         },
         "text": "Titulo de la figura"
        },
        "width": 600,
        "xaxis": {
         "linecolor": "black",
         "linewidth": 2,
         "mirror": true,
         "showgrid": false,
         "showline": true,
         "title": {
          "text": "Tiempo (seg)"
         }
        },
        "yaxis": {
         "linecolor": "black",
         "linewidth": 2,
         "mirror": true,
         "showgrid": false,
         "showline": true,
         "title": {
          "text": "Pixeles"
         }
        }
       }
      }
     },
     "metadata": {},
     "output_type": "display_data"
    }
   ],
   "source": [
    "fig = go.Figure()\n",
    "fig.add_traces(go.Scatter(x = df.t,y = df.x, name = 'X'))\n",
    "fig.add_traces(go.Scatter(x = df.t,y = df.y, name = 'Y'))\n",
    "estetica(fig,title = 'Titulo de la figura',x_name = 'Tiempo (seg)', y_name = 'Pixeles', h = 500,w = 600)\n",
    "fig.show()"
   ]
  },
  {
   "cell_type": "code",
   "execution_count": 90,
   "id": "c49a7496",
   "metadata": {},
   "outputs": [],
   "source": [
    "df['vx'] = df.x.diff(5)/df.t.diff(5)\n",
    "df['vy'] = df.y.diff(5)/df.t.diff(5)"
   ]
  },
  {
   "cell_type": "code",
   "execution_count": 93,
   "id": "ed469760",
   "metadata": {},
   "outputs": [
    {
     "data": {
      "application/vnd.plotly.v1+json": {
       "config": {
        "plotlyServerURL": "https://plot.ly"
       },
       "data": [
        {
         "hovertemplate": "<b>Vx</b>: %{text}",
         "name": "X",
         "text": [
          null,
          null,
          null,
          null,
          null,
          647.9999999999972,
          683.9999999999969,
          648.0000000000023,
          593.9999999999974,
          594.0000000000022,
          615.0000000000022,
          585.000000000002,
          600.0000000000022,
          600.0000000000022,
          599.9999999999982,
          575.9999999999975,
          578.5714285714273,
          552.8571428571416,
          539.9999999999989,
          539.9999999999989,
          527.142857142856,
          522.0000000000018,
          540.0000000000019,
          576.0000000000067,
          522.0000000000018,
          576.000000000002,
          557.9999999999975,
          521.9999999999977,
          503.9999999999978,
          558.0000000000019,
          486.0000000000017,
          521.9999999999977,
          539.9999999999976,
          503.9999999999978,
          503.9999999999978,
          521.9999999999977,
          522.000000000006,
          486.0000000000017,
          504.0000000000018,
          468.00000000000165,
          468.00000000000165,
          503.9999999999978,
          504.0000000000018,
          468.00000000000165,
          503.9999999999978,
          503.9999999999978,
          449.999999999998,
          449.999999999998,
          467.9999999999979,
          468.00000000000165,
          467.9999999999979,
          468.00000000000165,
          540.0000000000019,
          558.0000000000019,
          522.0000000000018,
          486.0000000000056,
          485.99999999999784,
          431.99999999999807,
          413.9999999999982,
          431.99999999999807,
          521.9999999999977,
          504.0000000000018,
          504.0000000000018,
          521.9999999999977,
          521.9999999999977,
          449.999999999998,
          450.0000000000016,
          468.00000000000165,
          450.0000000000052,
          450.0000000000016,
          468.00000000000165,
          485.99999999999784,
          449.999999999998,
          503.9999999999978,
          450.0000000000016,
          467.9999999999979,
          467.9999999999979,
          467.9999999999979,
          431.99999999999807,
          485.99999999999784,
          468.00000000000165,
          468.00000000000165,
          468.00000000000165,
          486.0000000000017,
          486.0000000000017,
          468.00000000000165,
          450.0000000000016
         ],
         "type": "scatter",
         "x": [
          2.511111111111111,
          2.522222222222222,
          2.5333333333333337,
          2.5444444444444447,
          2.555555555555556,
          2.566666666666667,
          2.577777777777778,
          2.588888888888889,
          2.6000000000000005,
          2.611111111111111,
          2.6333333333333333,
          2.6444444444444444,
          2.6555555555555554,
          2.666666666666667,
          2.677777777777778,
          2.688888888888889,
          2.7222222222222223,
          2.7333333333333334,
          2.744444444444445,
          2.755555555555556,
          2.766666666666667,
          2.7777777777777777,
          2.7888888888888888,
          2.8,
          2.8111111111111113,
          2.8222222222222224,
          2.8333333333333335,
          2.8444444444444446,
          2.8555555555555556,
          2.8666666666666667,
          2.8777777777777778,
          2.8888888888888893,
          2.9000000000000004,
          2.9111111111111114,
          2.9222222222222225,
          2.9333333333333336,
          2.944444444444444,
          2.9555555555555557,
          2.966666666666667,
          2.977777777777778,
          2.988888888888889,
          3,
          3.011111111111111,
          3.022222222222222,
          3.0333333333333337,
          3.0444444444444447,
          3.055555555555556,
          3.066666666666667,
          3.077777777777778,
          3.088888888888889,
          3.1000000000000005,
          3.111111111111111,
          3.1222222222222222,
          3.1333333333333333,
          3.1444444444444444,
          3.1555555555555554,
          3.166666666666667,
          3.177777777777778,
          3.188888888888889,
          3.2,
          3.2111111111111112,
          3.2222222222222223,
          3.2333333333333334,
          3.244444444444445,
          3.255555555555556,
          3.266666666666667,
          3.2777777777777777,
          3.2888888888888888,
          3.3,
          3.3111111111111113,
          3.3222222222222224,
          3.3333333333333335,
          3.3444444444444446,
          3.3555555555555556,
          3.3666666666666667,
          3.377777777777778,
          3.3888888888888893,
          3.4000000000000004,
          3.4111111111111114,
          3.4222222222222225,
          3.4333333333333336,
          3.4444444444444446,
          3.4555555555555557,
          3.466666666666667,
          3.477777777777778,
          3.488888888888889,
          3.5
         ],
         "y": [
          30,
          35,
          44,
          53,
          60,
          66,
          73,
          80,
          86,
          93,
          107,
          112,
          120,
          126,
          133,
          139,
          157,
          163,
          168,
          175,
          180,
          186,
          193,
          200,
          204,
          212,
          217,
          222,
          228,
          235,
          239,
          246,
          252,
          256,
          263,
          268,
          275,
          279,
          284,
          289,
          294,
          303,
          307,
          310,
          317,
          322,
          328,
          332,
          336,
          343,
          348,
          354,
          362,
          367,
          372,
          375,
          381,
          386,
          390,
          396,
          404,
          409,
          414,
          419,
          425,
          429,
          434,
          440,
          444,
          450,
          455,
          461,
          465,
          472,
          475,
          481,
          487,
          491,
          496,
          502,
          507,
          513,
          517,
          523,
          529,
          533,
          538
         ]
        },
        {
         "hovertemplate": "<b>Vy</b>: %{text}",
         "name": "Y",
         "text": [
          null,
          null,
          null,
          null,
          null,
          935.9999999999958,
          881.9999999999961,
          864.0000000000031,
          755.9999999999966,
          774.0000000000027,
          750.0000000000026,
          735.0000000000026,
          705.0000000000025,
          735.0000000000026,
          674.999999999998,
          647.9999999999972,
          617.1428571428559,
          578.5714285714273,
          539.9999999999989,
          539.9999999999989,
          501.42857142857036,
          468.00000000000165,
          450.0000000000016,
          468.0000000000054,
          414.0000000000015,
          414.0000000000015,
          413.9999999999982,
          377.9999999999983,
          341.99999999999847,
          342.0000000000012,
          306.0000000000011,
          251.9999999999989,
          269.9999999999988,
          251.9999999999989,
          215.99999999999903,
          251.9999999999989,
          252.0000000000029,
          198.0000000000007,
          180.00000000000065,
          180.00000000000065,
          126.00000000000045,
          107.99999999999952,
          90.00000000000033,
          72.00000000000026,
          71.99999999999969,
          71.99999999999969,
          53.99999999999976,
          53.99999999999976,
          35.999999999999844,
          -18.000000000000064,
          -53.99999999999976,
          -90.00000000000033,
          -108.00000000000038,
          -126.00000000000045,
          -126.00000000000045,
          -108.00000000000125,
          -107.99999999999952,
          -125.99999999999945,
          -161.9999999999993,
          -143.99999999999937,
          -197.99999999999912,
          -234.00000000000082,
          -234.00000000000082,
          -251.9999999999989,
          -287.99999999999875,
          -287.99999999999875,
          -288.000000000001,
          -324.00000000000114,
          -306.0000000000035,
          -342.0000000000012,
          -360.0000000000013,
          -359.9999999999984,
          -377.9999999999983,
          -449.999999999998,
          -396.0000000000014,
          -413.9999999999982,
          -503.9999999999978,
          -485.99999999999784,
          -431.99999999999807,
          -521.9999999999977,
          -540.0000000000019,
          -486.0000000000017,
          -540.0000000000019,
          -576.000000000002,
          -594.0000000000022,
          -612.0000000000022,
          -594.0000000000022
         ],
         "type": "scatter",
         "x": [
          2.511111111111111,
          2.522222222222222,
          2.5333333333333337,
          2.5444444444444447,
          2.555555555555556,
          2.566666666666667,
          2.577777777777778,
          2.588888888888889,
          2.6000000000000005,
          2.611111111111111,
          2.6333333333333333,
          2.6444444444444444,
          2.6555555555555554,
          2.666666666666667,
          2.677777777777778,
          2.688888888888889,
          2.7222222222222223,
          2.7333333333333334,
          2.744444444444445,
          2.755555555555556,
          2.766666666666667,
          2.7777777777777777,
          2.7888888888888888,
          2.8,
          2.8111111111111113,
          2.8222222222222224,
          2.8333333333333335,
          2.8444444444444446,
          2.8555555555555556,
          2.8666666666666667,
          2.8777777777777778,
          2.8888888888888893,
          2.9000000000000004,
          2.9111111111111114,
          2.9222222222222225,
          2.9333333333333336,
          2.944444444444444,
          2.9555555555555557,
          2.966666666666667,
          2.977777777777778,
          2.988888888888889,
          3,
          3.011111111111111,
          3.022222222222222,
          3.0333333333333337,
          3.0444444444444447,
          3.055555555555556,
          3.066666666666667,
          3.077777777777778,
          3.088888888888889,
          3.1000000000000005,
          3.111111111111111,
          3.1222222222222222,
          3.1333333333333333,
          3.1444444444444444,
          3.1555555555555554,
          3.166666666666667,
          3.177777777777778,
          3.188888888888889,
          3.2,
          3.2111111111111112,
          3.2222222222222223,
          3.2333333333333334,
          3.244444444444445,
          3.255555555555556,
          3.266666666666667,
          3.2777777777777777,
          3.2888888888888888,
          3.3,
          3.3111111111111113,
          3.3222222222222224,
          3.3333333333333335,
          3.3444444444444446,
          3.3555555555555556,
          3.3666666666666667,
          3.377777777777778,
          3.3888888888888893,
          3.4000000000000004,
          3.4111111111111114,
          3.4222222222222225,
          3.4333333333333336,
          3.4444444444444446,
          3.4555555555555557,
          3.466666666666667,
          3.477777777777778,
          3.488888888888889,
          3.5
         ],
         "y": [
          232,
          242,
          254,
          266,
          275,
          284,
          291,
          302,
          308,
          318,
          334,
          340,
          349,
          357,
          363,
          370,
          388,
          394,
          399,
          405,
          409,
          414,
          419,
          425,
          428,
          432,
          437,
          440,
          444,
          447,
          449,
          451,
          455,
          458,
          459,
          463,
          465,
          466,
          468,
          469,
          470,
          471,
          471,
          472,
          473,
          474,
          474,
          474,
          474,
          472,
          471,
          469,
          468,
          467,
          465,
          465,
          463,
          461,
          458,
          457,
          454,
          450,
          448,
          444,
          441,
          438,
          434,
          430,
          427,
          422,
          418,
          414,
          409,
          402,
          400,
          395,
          386,
          382,
          378,
          371,
          365,
          359,
          352,
          346,
          338,
          331,
          326
         ]
        }
       ],
       "layout": {
        "autosize": false,
        "height": 500,
        "legend": {
         "bgcolor": "rgba(255,255,255,0)",
         "font": {
          "size": 18
         },
         "orientation": "v",
         "x": 0.05,
         "xanchor": "left",
         "y": 0.95,
         "yanchor": "top"
        },
        "margin": {
         "b": 20,
         "l": 20,
         "r": 20,
         "t": 40
        },
        "plot_bgcolor": "white",
        "template": {
         "data": {
          "bar": [
           {
            "error_x": {
             "color": "#2a3f5f"
            },
            "error_y": {
             "color": "#2a3f5f"
            },
            "marker": {
             "line": {
              "color": "white",
              "width": 0.5
             },
             "pattern": {
              "fillmode": "overlay",
              "size": 10,
              "solidity": 0.2
             }
            },
            "type": "bar"
           }
          ],
          "barpolar": [
           {
            "marker": {
             "line": {
              "color": "white",
              "width": 0.5
             },
             "pattern": {
              "fillmode": "overlay",
              "size": 10,
              "solidity": 0.2
             }
            },
            "type": "barpolar"
           }
          ],
          "carpet": [
           {
            "aaxis": {
             "endlinecolor": "#2a3f5f",
             "gridcolor": "#C8D4E3",
             "linecolor": "#C8D4E3",
             "minorgridcolor": "#C8D4E3",
             "startlinecolor": "#2a3f5f"
            },
            "baxis": {
             "endlinecolor": "#2a3f5f",
             "gridcolor": "#C8D4E3",
             "linecolor": "#C8D4E3",
             "minorgridcolor": "#C8D4E3",
             "startlinecolor": "#2a3f5f"
            },
            "type": "carpet"
           }
          ],
          "choropleth": [
           {
            "colorbar": {
             "outlinewidth": 0,
             "ticks": ""
            },
            "type": "choropleth"
           }
          ],
          "contour": [
           {
            "colorbar": {
             "outlinewidth": 0,
             "ticks": ""
            },
            "colorscale": [
             [
              0,
              "#0d0887"
             ],
             [
              0.1111111111111111,
              "#46039f"
             ],
             [
              0.2222222222222222,
              "#7201a8"
             ],
             [
              0.3333333333333333,
              "#9c179e"
             ],
             [
              0.4444444444444444,
              "#bd3786"
             ],
             [
              0.5555555555555556,
              "#d8576b"
             ],
             [
              0.6666666666666666,
              "#ed7953"
             ],
             [
              0.7777777777777778,
              "#fb9f3a"
             ],
             [
              0.8888888888888888,
              "#fdca26"
             ],
             [
              1,
              "#f0f921"
             ]
            ],
            "type": "contour"
           }
          ],
          "contourcarpet": [
           {
            "colorbar": {
             "outlinewidth": 0,
             "ticks": ""
            },
            "type": "contourcarpet"
           }
          ],
          "heatmap": [
           {
            "colorbar": {
             "outlinewidth": 0,
             "ticks": ""
            },
            "colorscale": [
             [
              0,
              "#0d0887"
             ],
             [
              0.1111111111111111,
              "#46039f"
             ],
             [
              0.2222222222222222,
              "#7201a8"
             ],
             [
              0.3333333333333333,
              "#9c179e"
             ],
             [
              0.4444444444444444,
              "#bd3786"
             ],
             [
              0.5555555555555556,
              "#d8576b"
             ],
             [
              0.6666666666666666,
              "#ed7953"
             ],
             [
              0.7777777777777778,
              "#fb9f3a"
             ],
             [
              0.8888888888888888,
              "#fdca26"
             ],
             [
              1,
              "#f0f921"
             ]
            ],
            "type": "heatmap"
           }
          ],
          "heatmapgl": [
           {
            "colorbar": {
             "outlinewidth": 0,
             "ticks": ""
            },
            "colorscale": [
             [
              0,
              "#0d0887"
             ],
             [
              0.1111111111111111,
              "#46039f"
             ],
             [
              0.2222222222222222,
              "#7201a8"
             ],
             [
              0.3333333333333333,
              "#9c179e"
             ],
             [
              0.4444444444444444,
              "#bd3786"
             ],
             [
              0.5555555555555556,
              "#d8576b"
             ],
             [
              0.6666666666666666,
              "#ed7953"
             ],
             [
              0.7777777777777778,
              "#fb9f3a"
             ],
             [
              0.8888888888888888,
              "#fdca26"
             ],
             [
              1,
              "#f0f921"
             ]
            ],
            "type": "heatmapgl"
           }
          ],
          "histogram": [
           {
            "marker": {
             "pattern": {
              "fillmode": "overlay",
              "size": 10,
              "solidity": 0.2
             }
            },
            "type": "histogram"
           }
          ],
          "histogram2d": [
           {
            "colorbar": {
             "outlinewidth": 0,
             "ticks": ""
            },
            "colorscale": [
             [
              0,
              "#0d0887"
             ],
             [
              0.1111111111111111,
              "#46039f"
             ],
             [
              0.2222222222222222,
              "#7201a8"
             ],
             [
              0.3333333333333333,
              "#9c179e"
             ],
             [
              0.4444444444444444,
              "#bd3786"
             ],
             [
              0.5555555555555556,
              "#d8576b"
             ],
             [
              0.6666666666666666,
              "#ed7953"
             ],
             [
              0.7777777777777778,
              "#fb9f3a"
             ],
             [
              0.8888888888888888,
              "#fdca26"
             ],
             [
              1,
              "#f0f921"
             ]
            ],
            "type": "histogram2d"
           }
          ],
          "histogram2dcontour": [
           {
            "colorbar": {
             "outlinewidth": 0,
             "ticks": ""
            },
            "colorscale": [
             [
              0,
              "#0d0887"
             ],
             [
              0.1111111111111111,
              "#46039f"
             ],
             [
              0.2222222222222222,
              "#7201a8"
             ],
             [
              0.3333333333333333,
              "#9c179e"
             ],
             [
              0.4444444444444444,
              "#bd3786"
             ],
             [
              0.5555555555555556,
              "#d8576b"
             ],
             [
              0.6666666666666666,
              "#ed7953"
             ],
             [
              0.7777777777777778,
              "#fb9f3a"
             ],
             [
              0.8888888888888888,
              "#fdca26"
             ],
             [
              1,
              "#f0f921"
             ]
            ],
            "type": "histogram2dcontour"
           }
          ],
          "mesh3d": [
           {
            "colorbar": {
             "outlinewidth": 0,
             "ticks": ""
            },
            "type": "mesh3d"
           }
          ],
          "parcoords": [
           {
            "line": {
             "colorbar": {
              "outlinewidth": 0,
              "ticks": ""
             }
            },
            "type": "parcoords"
           }
          ],
          "pie": [
           {
            "automargin": true,
            "type": "pie"
           }
          ],
          "scatter": [
           {
            "fillpattern": {
             "fillmode": "overlay",
             "size": 10,
             "solidity": 0.2
            },
            "type": "scatter"
           }
          ],
          "scatter3d": [
           {
            "line": {
             "colorbar": {
              "outlinewidth": 0,
              "ticks": ""
             }
            },
            "marker": {
             "colorbar": {
              "outlinewidth": 0,
              "ticks": ""
             }
            },
            "type": "scatter3d"
           }
          ],
          "scattercarpet": [
           {
            "marker": {
             "colorbar": {
              "outlinewidth": 0,
              "ticks": ""
             }
            },
            "type": "scattercarpet"
           }
          ],
          "scattergeo": [
           {
            "marker": {
             "colorbar": {
              "outlinewidth": 0,
              "ticks": ""
             }
            },
            "type": "scattergeo"
           }
          ],
          "scattergl": [
           {
            "marker": {
             "colorbar": {
              "outlinewidth": 0,
              "ticks": ""
             }
            },
            "type": "scattergl"
           }
          ],
          "scattermapbox": [
           {
            "marker": {
             "colorbar": {
              "outlinewidth": 0,
              "ticks": ""
             }
            },
            "type": "scattermapbox"
           }
          ],
          "scatterpolar": [
           {
            "marker": {
             "colorbar": {
              "outlinewidth": 0,
              "ticks": ""
             }
            },
            "type": "scatterpolar"
           }
          ],
          "scatterpolargl": [
           {
            "marker": {
             "colorbar": {
              "outlinewidth": 0,
              "ticks": ""
             }
            },
            "type": "scatterpolargl"
           }
          ],
          "scatterternary": [
           {
            "marker": {
             "colorbar": {
              "outlinewidth": 0,
              "ticks": ""
             }
            },
            "type": "scatterternary"
           }
          ],
          "surface": [
           {
            "colorbar": {
             "outlinewidth": 0,
             "ticks": ""
            },
            "colorscale": [
             [
              0,
              "#0d0887"
             ],
             [
              0.1111111111111111,
              "#46039f"
             ],
             [
              0.2222222222222222,
              "#7201a8"
             ],
             [
              0.3333333333333333,
              "#9c179e"
             ],
             [
              0.4444444444444444,
              "#bd3786"
             ],
             [
              0.5555555555555556,
              "#d8576b"
             ],
             [
              0.6666666666666666,
              "#ed7953"
             ],
             [
              0.7777777777777778,
              "#fb9f3a"
             ],
             [
              0.8888888888888888,
              "#fdca26"
             ],
             [
              1,
              "#f0f921"
             ]
            ],
            "type": "surface"
           }
          ],
          "table": [
           {
            "cells": {
             "fill": {
              "color": "#EBF0F8"
             },
             "line": {
              "color": "white"
             }
            },
            "header": {
             "fill": {
              "color": "#C8D4E3"
             },
             "line": {
              "color": "white"
             }
            },
            "type": "table"
           }
          ]
         },
         "layout": {
          "annotationdefaults": {
           "arrowcolor": "#2a3f5f",
           "arrowhead": 0,
           "arrowwidth": 1
          },
          "autotypenumbers": "strict",
          "coloraxis": {
           "colorbar": {
            "outlinewidth": 0,
            "ticks": ""
           }
          },
          "colorscale": {
           "diverging": [
            [
             0,
             "#8e0152"
            ],
            [
             0.1,
             "#c51b7d"
            ],
            [
             0.2,
             "#de77ae"
            ],
            [
             0.3,
             "#f1b6da"
            ],
            [
             0.4,
             "#fde0ef"
            ],
            [
             0.5,
             "#f7f7f7"
            ],
            [
             0.6,
             "#e6f5d0"
            ],
            [
             0.7,
             "#b8e186"
            ],
            [
             0.8,
             "#7fbc41"
            ],
            [
             0.9,
             "#4d9221"
            ],
            [
             1,
             "#276419"
            ]
           ],
           "sequential": [
            [
             0,
             "#0d0887"
            ],
            [
             0.1111111111111111,
             "#46039f"
            ],
            [
             0.2222222222222222,
             "#7201a8"
            ],
            [
             0.3333333333333333,
             "#9c179e"
            ],
            [
             0.4444444444444444,
             "#bd3786"
            ],
            [
             0.5555555555555556,
             "#d8576b"
            ],
            [
             0.6666666666666666,
             "#ed7953"
            ],
            [
             0.7777777777777778,
             "#fb9f3a"
            ],
            [
             0.8888888888888888,
             "#fdca26"
            ],
            [
             1,
             "#f0f921"
            ]
           ],
           "sequentialminus": [
            [
             0,
             "#0d0887"
            ],
            [
             0.1111111111111111,
             "#46039f"
            ],
            [
             0.2222222222222222,
             "#7201a8"
            ],
            [
             0.3333333333333333,
             "#9c179e"
            ],
            [
             0.4444444444444444,
             "#bd3786"
            ],
            [
             0.5555555555555556,
             "#d8576b"
            ],
            [
             0.6666666666666666,
             "#ed7953"
            ],
            [
             0.7777777777777778,
             "#fb9f3a"
            ],
            [
             0.8888888888888888,
             "#fdca26"
            ],
            [
             1,
             "#f0f921"
            ]
           ]
          },
          "colorway": [
           "#636efa",
           "#EF553B",
           "#00cc96",
           "#ab63fa",
           "#FFA15A",
           "#19d3f3",
           "#FF6692",
           "#B6E880",
           "#FF97FF",
           "#FECB52"
          ],
          "font": {
           "color": "#2a3f5f"
          },
          "geo": {
           "bgcolor": "white",
           "lakecolor": "white",
           "landcolor": "white",
           "showlakes": true,
           "showland": true,
           "subunitcolor": "#C8D4E3"
          },
          "hoverlabel": {
           "align": "left"
          },
          "hovermode": "closest",
          "mapbox": {
           "style": "light"
          },
          "paper_bgcolor": "white",
          "plot_bgcolor": "white",
          "polar": {
           "angularaxis": {
            "gridcolor": "#EBF0F8",
            "linecolor": "#EBF0F8",
            "ticks": ""
           },
           "bgcolor": "white",
           "radialaxis": {
            "gridcolor": "#EBF0F8",
            "linecolor": "#EBF0F8",
            "ticks": ""
           }
          },
          "scene": {
           "xaxis": {
            "backgroundcolor": "white",
            "gridcolor": "#DFE8F3",
            "gridwidth": 2,
            "linecolor": "#EBF0F8",
            "showbackground": true,
            "ticks": "",
            "zerolinecolor": "#EBF0F8"
           },
           "yaxis": {
            "backgroundcolor": "white",
            "gridcolor": "#DFE8F3",
            "gridwidth": 2,
            "linecolor": "#EBF0F8",
            "showbackground": true,
            "ticks": "",
            "zerolinecolor": "#EBF0F8"
           },
           "zaxis": {
            "backgroundcolor": "white",
            "gridcolor": "#DFE8F3",
            "gridwidth": 2,
            "linecolor": "#EBF0F8",
            "showbackground": true,
            "ticks": "",
            "zerolinecolor": "#EBF0F8"
           }
          },
          "shapedefaults": {
           "line": {
            "color": "#2a3f5f"
           }
          },
          "ternary": {
           "aaxis": {
            "gridcolor": "#DFE8F3",
            "linecolor": "#A2B1C6",
            "ticks": ""
           },
           "baxis": {
            "gridcolor": "#DFE8F3",
            "linecolor": "#A2B1C6",
            "ticks": ""
           },
           "bgcolor": "white",
           "caxis": {
            "gridcolor": "#DFE8F3",
            "linecolor": "#A2B1C6",
            "ticks": ""
           }
          },
          "title": {
           "x": 0.05
          },
          "xaxis": {
           "automargin": true,
           "gridcolor": "#EBF0F8",
           "linecolor": "#EBF0F8",
           "ticks": "",
           "title": {
            "standoff": 15
           },
           "zerolinecolor": "#EBF0F8",
           "zerolinewidth": 2
          },
          "yaxis": {
           "automargin": true,
           "gridcolor": "#EBF0F8",
           "linecolor": "#EBF0F8",
           "ticks": "",
           "title": {
            "standoff": 15
           },
           "zerolinecolor": "#EBF0F8",
           "zerolinewidth": 2
          }
         }
        },
        "title": {
         "font": {
          "size": 20
         },
         "text": "Posición"
        },
        "width": 600,
        "xaxis": {
         "linecolor": "black",
         "linewidth": 2,
         "mirror": true,
         "showgrid": false,
         "showline": true,
         "title": {
          "text": "Tiempo (seg)"
         }
        },
        "yaxis": {
         "linecolor": "black",
         "linewidth": 2,
         "mirror": true,
         "showgrid": false,
         "showline": true,
         "title": {
          "text": "Pixeles"
         }
        }
       }
      }
     },
     "metadata": {},
     "output_type": "display_data"
    },
    {
     "data": {
      "application/vnd.plotly.v1+json": {
       "config": {
        "plotlyServerURL": "https://plot.ly"
       },
       "data": [
        {
         "hovertemplate": "<b>Vx</b>: %{text}",
         "name": "X",
         "text": [
          null,
          null,
          null,
          null,
          null,
          647.9999999999972,
          683.9999999999969,
          648.0000000000023,
          593.9999999999974,
          594.0000000000022,
          615.0000000000022,
          585.000000000002,
          600.0000000000022,
          600.0000000000022,
          599.9999999999982,
          575.9999999999975,
          578.5714285714273,
          552.8571428571416,
          539.9999999999989,
          539.9999999999989,
          527.142857142856,
          522.0000000000018,
          540.0000000000019,
          576.0000000000067,
          522.0000000000018,
          576.000000000002,
          557.9999999999975,
          521.9999999999977,
          503.9999999999978,
          558.0000000000019,
          486.0000000000017,
          521.9999999999977,
          539.9999999999976,
          503.9999999999978,
          503.9999999999978,
          521.9999999999977,
          522.000000000006,
          486.0000000000017,
          504.0000000000018,
          468.00000000000165,
          468.00000000000165,
          503.9999999999978,
          504.0000000000018,
          468.00000000000165,
          503.9999999999978,
          503.9999999999978,
          449.999999999998,
          449.999999999998,
          467.9999999999979,
          468.00000000000165,
          467.9999999999979,
          468.00000000000165,
          540.0000000000019,
          558.0000000000019,
          522.0000000000018,
          486.0000000000056,
          485.99999999999784,
          431.99999999999807,
          413.9999999999982,
          431.99999999999807,
          521.9999999999977,
          504.0000000000018,
          504.0000000000018,
          521.9999999999977,
          521.9999999999977,
          449.999999999998,
          450.0000000000016,
          468.00000000000165,
          450.0000000000052,
          450.0000000000016,
          468.00000000000165,
          485.99999999999784,
          449.999999999998,
          503.9999999999978,
          450.0000000000016,
          467.9999999999979,
          467.9999999999979,
          467.9999999999979,
          431.99999999999807,
          485.99999999999784,
          468.00000000000165,
          468.00000000000165,
          468.00000000000165,
          486.0000000000017,
          486.0000000000017,
          468.00000000000165,
          450.0000000000016
         ],
         "type": "scatter",
         "x": [
          2.511111111111111,
          2.522222222222222,
          2.5333333333333337,
          2.5444444444444447,
          2.555555555555556,
          2.566666666666667,
          2.577777777777778,
          2.588888888888889,
          2.6000000000000005,
          2.611111111111111,
          2.6333333333333333,
          2.6444444444444444,
          2.6555555555555554,
          2.666666666666667,
          2.677777777777778,
          2.688888888888889,
          2.7222222222222223,
          2.7333333333333334,
          2.744444444444445,
          2.755555555555556,
          2.766666666666667,
          2.7777777777777777,
          2.7888888888888888,
          2.8,
          2.8111111111111113,
          2.8222222222222224,
          2.8333333333333335,
          2.8444444444444446,
          2.8555555555555556,
          2.8666666666666667,
          2.8777777777777778,
          2.8888888888888893,
          2.9000000000000004,
          2.9111111111111114,
          2.9222222222222225,
          2.9333333333333336,
          2.944444444444444,
          2.9555555555555557,
          2.966666666666667,
          2.977777777777778,
          2.988888888888889,
          3,
          3.011111111111111,
          3.022222222222222,
          3.0333333333333337,
          3.0444444444444447,
          3.055555555555556,
          3.066666666666667,
          3.077777777777778,
          3.088888888888889,
          3.1000000000000005,
          3.111111111111111,
          3.1222222222222222,
          3.1333333333333333,
          3.1444444444444444,
          3.1555555555555554,
          3.166666666666667,
          3.177777777777778,
          3.188888888888889,
          3.2,
          3.2111111111111112,
          3.2222222222222223,
          3.2333333333333334,
          3.244444444444445,
          3.255555555555556,
          3.266666666666667,
          3.2777777777777777,
          3.2888888888888888,
          3.3,
          3.3111111111111113,
          3.3222222222222224,
          3.3333333333333335,
          3.3444444444444446,
          3.3555555555555556,
          3.3666666666666667,
          3.377777777777778,
          3.3888888888888893,
          3.4000000000000004,
          3.4111111111111114,
          3.4222222222222225,
          3.4333333333333336,
          3.4444444444444446,
          3.4555555555555557,
          3.466666666666667,
          3.477777777777778,
          3.488888888888889,
          3.5
         ],
         "y": [
          null,
          null,
          null,
          null,
          null,
          647.9999999999972,
          683.9999999999969,
          648.0000000000023,
          593.9999999999974,
          594.0000000000022,
          615.0000000000022,
          585.000000000002,
          600.0000000000022,
          600.0000000000022,
          599.9999999999982,
          575.9999999999975,
          578.5714285714273,
          552.8571428571416,
          539.9999999999989,
          539.9999999999989,
          527.142857142856,
          522.0000000000018,
          540.0000000000019,
          576.0000000000067,
          522.0000000000018,
          576.000000000002,
          557.9999999999975,
          521.9999999999977,
          503.9999999999978,
          558.0000000000019,
          486.0000000000017,
          521.9999999999977,
          539.9999999999976,
          503.9999999999978,
          503.9999999999978,
          521.9999999999977,
          522.000000000006,
          486.0000000000017,
          504.0000000000018,
          468.00000000000165,
          468.00000000000165,
          503.9999999999978,
          504.0000000000018,
          468.00000000000165,
          503.9999999999978,
          503.9999999999978,
          449.999999999998,
          449.999999999998,
          467.9999999999979,
          468.00000000000165,
          467.9999999999979,
          468.00000000000165,
          540.0000000000019,
          558.0000000000019,
          522.0000000000018,
          486.0000000000056,
          485.99999999999784,
          431.99999999999807,
          413.9999999999982,
          431.99999999999807,
          521.9999999999977,
          504.0000000000018,
          504.0000000000018,
          521.9999999999977,
          521.9999999999977,
          449.999999999998,
          450.0000000000016,
          468.00000000000165,
          450.0000000000052,
          450.0000000000016,
          468.00000000000165,
          485.99999999999784,
          449.999999999998,
          503.9999999999978,
          450.0000000000016,
          467.9999999999979,
          467.9999999999979,
          467.9999999999979,
          431.99999999999807,
          485.99999999999784,
          468.00000000000165,
          468.00000000000165,
          468.00000000000165,
          486.0000000000017,
          486.0000000000017,
          468.00000000000165,
          450.0000000000016
         ]
        },
        {
         "hovertemplate": "<b>Vy</b>: %{text}",
         "name": "Y",
         "text": [
          null,
          null,
          null,
          null,
          null,
          935.9999999999958,
          881.9999999999961,
          864.0000000000031,
          755.9999999999966,
          774.0000000000027,
          750.0000000000026,
          735.0000000000026,
          705.0000000000025,
          735.0000000000026,
          674.999999999998,
          647.9999999999972,
          617.1428571428559,
          578.5714285714273,
          539.9999999999989,
          539.9999999999989,
          501.42857142857036,
          468.00000000000165,
          450.0000000000016,
          468.0000000000054,
          414.0000000000015,
          414.0000000000015,
          413.9999999999982,
          377.9999999999983,
          341.99999999999847,
          342.0000000000012,
          306.0000000000011,
          251.9999999999989,
          269.9999999999988,
          251.9999999999989,
          215.99999999999903,
          251.9999999999989,
          252.0000000000029,
          198.0000000000007,
          180.00000000000065,
          180.00000000000065,
          126.00000000000045,
          107.99999999999952,
          90.00000000000033,
          72.00000000000026,
          71.99999999999969,
          71.99999999999969,
          53.99999999999976,
          53.99999999999976,
          35.999999999999844,
          -18.000000000000064,
          -53.99999999999976,
          -90.00000000000033,
          -108.00000000000038,
          -126.00000000000045,
          -126.00000000000045,
          -108.00000000000125,
          -107.99999999999952,
          -125.99999999999945,
          -161.9999999999993,
          -143.99999999999937,
          -197.99999999999912,
          -234.00000000000082,
          -234.00000000000082,
          -251.9999999999989,
          -287.99999999999875,
          -287.99999999999875,
          -288.000000000001,
          -324.00000000000114,
          -306.0000000000035,
          -342.0000000000012,
          -360.0000000000013,
          -359.9999999999984,
          -377.9999999999983,
          -449.999999999998,
          -396.0000000000014,
          -413.9999999999982,
          -503.9999999999978,
          -485.99999999999784,
          -431.99999999999807,
          -521.9999999999977,
          -540.0000000000019,
          -486.0000000000017,
          -540.0000000000019,
          -576.000000000002,
          -594.0000000000022,
          -612.0000000000022,
          -594.0000000000022
         ],
         "type": "scatter",
         "x": [
          2.511111111111111,
          2.522222222222222,
          2.5333333333333337,
          2.5444444444444447,
          2.555555555555556,
          2.566666666666667,
          2.577777777777778,
          2.588888888888889,
          2.6000000000000005,
          2.611111111111111,
          2.6333333333333333,
          2.6444444444444444,
          2.6555555555555554,
          2.666666666666667,
          2.677777777777778,
          2.688888888888889,
          2.7222222222222223,
          2.7333333333333334,
          2.744444444444445,
          2.755555555555556,
          2.766666666666667,
          2.7777777777777777,
          2.7888888888888888,
          2.8,
          2.8111111111111113,
          2.8222222222222224,
          2.8333333333333335,
          2.8444444444444446,
          2.8555555555555556,
          2.8666666666666667,
          2.8777777777777778,
          2.8888888888888893,
          2.9000000000000004,
          2.9111111111111114,
          2.9222222222222225,
          2.9333333333333336,
          2.944444444444444,
          2.9555555555555557,
          2.966666666666667,
          2.977777777777778,
          2.988888888888889,
          3,
          3.011111111111111,
          3.022222222222222,
          3.0333333333333337,
          3.0444444444444447,
          3.055555555555556,
          3.066666666666667,
          3.077777777777778,
          3.088888888888889,
          3.1000000000000005,
          3.111111111111111,
          3.1222222222222222,
          3.1333333333333333,
          3.1444444444444444,
          3.1555555555555554,
          3.166666666666667,
          3.177777777777778,
          3.188888888888889,
          3.2,
          3.2111111111111112,
          3.2222222222222223,
          3.2333333333333334,
          3.244444444444445,
          3.255555555555556,
          3.266666666666667,
          3.2777777777777777,
          3.2888888888888888,
          3.3,
          3.3111111111111113,
          3.3222222222222224,
          3.3333333333333335,
          3.3444444444444446,
          3.3555555555555556,
          3.3666666666666667,
          3.377777777777778,
          3.3888888888888893,
          3.4000000000000004,
          3.4111111111111114,
          3.4222222222222225,
          3.4333333333333336,
          3.4444444444444446,
          3.4555555555555557,
          3.466666666666667,
          3.477777777777778,
          3.488888888888889,
          3.5
         ],
         "y": [
          null,
          null,
          null,
          null,
          null,
          935.9999999999958,
          881.9999999999961,
          864.0000000000031,
          755.9999999999966,
          774.0000000000027,
          750.0000000000026,
          735.0000000000026,
          705.0000000000025,
          735.0000000000026,
          674.999999999998,
          647.9999999999972,
          617.1428571428559,
          578.5714285714273,
          539.9999999999989,
          539.9999999999989,
          501.42857142857036,
          468.00000000000165,
          450.0000000000016,
          468.0000000000054,
          414.0000000000015,
          414.0000000000015,
          413.9999999999982,
          377.9999999999983,
          341.99999999999847,
          342.0000000000012,
          306.0000000000011,
          251.9999999999989,
          269.9999999999988,
          251.9999999999989,
          215.99999999999903,
          251.9999999999989,
          252.0000000000029,
          198.0000000000007,
          180.00000000000065,
          180.00000000000065,
          126.00000000000045,
          107.99999999999952,
          90.00000000000033,
          72.00000000000026,
          71.99999999999969,
          71.99999999999969,
          53.99999999999976,
          53.99999999999976,
          35.999999999999844,
          -18.000000000000064,
          -53.99999999999976,
          -90.00000000000033,
          -108.00000000000038,
          -126.00000000000045,
          -126.00000000000045,
          -108.00000000000125,
          -107.99999999999952,
          -125.99999999999945,
          -161.9999999999993,
          -143.99999999999937,
          -197.99999999999912,
          -234.00000000000082,
          -234.00000000000082,
          -251.9999999999989,
          -287.99999999999875,
          -287.99999999999875,
          -288.000000000001,
          -324.00000000000114,
          -306.0000000000035,
          -342.0000000000012,
          -360.0000000000013,
          -359.9999999999984,
          -377.9999999999983,
          -449.999999999998,
          -396.0000000000014,
          -413.9999999999982,
          -503.9999999999978,
          -485.99999999999784,
          -431.99999999999807,
          -521.9999999999977,
          -540.0000000000019,
          -486.0000000000017,
          -540.0000000000019,
          -576.000000000002,
          -594.0000000000022,
          -612.0000000000022,
          -594.0000000000022
         ]
        }
       ],
       "layout": {
        "autosize": false,
        "height": 500,
        "legend": {
         "bgcolor": "rgba(255,255,255,0)",
         "font": {
          "size": 18
         },
         "orientation": "v",
         "x": 0.95,
         "xanchor": "right",
         "y": 0.95,
         "yanchor": "top"
        },
        "margin": {
         "b": 20,
         "l": 20,
         "r": 20,
         "t": 40
        },
        "plot_bgcolor": "white",
        "template": {
         "data": {
          "bar": [
           {
            "error_x": {
             "color": "#2a3f5f"
            },
            "error_y": {
             "color": "#2a3f5f"
            },
            "marker": {
             "line": {
              "color": "white",
              "width": 0.5
             },
             "pattern": {
              "fillmode": "overlay",
              "size": 10,
              "solidity": 0.2
             }
            },
            "type": "bar"
           }
          ],
          "barpolar": [
           {
            "marker": {
             "line": {
              "color": "white",
              "width": 0.5
             },
             "pattern": {
              "fillmode": "overlay",
              "size": 10,
              "solidity": 0.2
             }
            },
            "type": "barpolar"
           }
          ],
          "carpet": [
           {
            "aaxis": {
             "endlinecolor": "#2a3f5f",
             "gridcolor": "#C8D4E3",
             "linecolor": "#C8D4E3",
             "minorgridcolor": "#C8D4E3",
             "startlinecolor": "#2a3f5f"
            },
            "baxis": {
             "endlinecolor": "#2a3f5f",
             "gridcolor": "#C8D4E3",
             "linecolor": "#C8D4E3",
             "minorgridcolor": "#C8D4E3",
             "startlinecolor": "#2a3f5f"
            },
            "type": "carpet"
           }
          ],
          "choropleth": [
           {
            "colorbar": {
             "outlinewidth": 0,
             "ticks": ""
            },
            "type": "choropleth"
           }
          ],
          "contour": [
           {
            "colorbar": {
             "outlinewidth": 0,
             "ticks": ""
            },
            "colorscale": [
             [
              0,
              "#0d0887"
             ],
             [
              0.1111111111111111,
              "#46039f"
             ],
             [
              0.2222222222222222,
              "#7201a8"
             ],
             [
              0.3333333333333333,
              "#9c179e"
             ],
             [
              0.4444444444444444,
              "#bd3786"
             ],
             [
              0.5555555555555556,
              "#d8576b"
             ],
             [
              0.6666666666666666,
              "#ed7953"
             ],
             [
              0.7777777777777778,
              "#fb9f3a"
             ],
             [
              0.8888888888888888,
              "#fdca26"
             ],
             [
              1,
              "#f0f921"
             ]
            ],
            "type": "contour"
           }
          ],
          "contourcarpet": [
           {
            "colorbar": {
             "outlinewidth": 0,
             "ticks": ""
            },
            "type": "contourcarpet"
           }
          ],
          "heatmap": [
           {
            "colorbar": {
             "outlinewidth": 0,
             "ticks": ""
            },
            "colorscale": [
             [
              0,
              "#0d0887"
             ],
             [
              0.1111111111111111,
              "#46039f"
             ],
             [
              0.2222222222222222,
              "#7201a8"
             ],
             [
              0.3333333333333333,
              "#9c179e"
             ],
             [
              0.4444444444444444,
              "#bd3786"
             ],
             [
              0.5555555555555556,
              "#d8576b"
             ],
             [
              0.6666666666666666,
              "#ed7953"
             ],
             [
              0.7777777777777778,
              "#fb9f3a"
             ],
             [
              0.8888888888888888,
              "#fdca26"
             ],
             [
              1,
              "#f0f921"
             ]
            ],
            "type": "heatmap"
           }
          ],
          "heatmapgl": [
           {
            "colorbar": {
             "outlinewidth": 0,
             "ticks": ""
            },
            "colorscale": [
             [
              0,
              "#0d0887"
             ],
             [
              0.1111111111111111,
              "#46039f"
             ],
             [
              0.2222222222222222,
              "#7201a8"
             ],
             [
              0.3333333333333333,
              "#9c179e"
             ],
             [
              0.4444444444444444,
              "#bd3786"
             ],
             [
              0.5555555555555556,
              "#d8576b"
             ],
             [
              0.6666666666666666,
              "#ed7953"
             ],
             [
              0.7777777777777778,
              "#fb9f3a"
             ],
             [
              0.8888888888888888,
              "#fdca26"
             ],
             [
              1,
              "#f0f921"
             ]
            ],
            "type": "heatmapgl"
           }
          ],
          "histogram": [
           {
            "marker": {
             "pattern": {
              "fillmode": "overlay",
              "size": 10,
              "solidity": 0.2
             }
            },
            "type": "histogram"
           }
          ],
          "histogram2d": [
           {
            "colorbar": {
             "outlinewidth": 0,
             "ticks": ""
            },
            "colorscale": [
             [
              0,
              "#0d0887"
             ],
             [
              0.1111111111111111,
              "#46039f"
             ],
             [
              0.2222222222222222,
              "#7201a8"
             ],
             [
              0.3333333333333333,
              "#9c179e"
             ],
             [
              0.4444444444444444,
              "#bd3786"
             ],
             [
              0.5555555555555556,
              "#d8576b"
             ],
             [
              0.6666666666666666,
              "#ed7953"
             ],
             [
              0.7777777777777778,
              "#fb9f3a"
             ],
             [
              0.8888888888888888,
              "#fdca26"
             ],
             [
              1,
              "#f0f921"
             ]
            ],
            "type": "histogram2d"
           }
          ],
          "histogram2dcontour": [
           {
            "colorbar": {
             "outlinewidth": 0,
             "ticks": ""
            },
            "colorscale": [
             [
              0,
              "#0d0887"
             ],
             [
              0.1111111111111111,
              "#46039f"
             ],
             [
              0.2222222222222222,
              "#7201a8"
             ],
             [
              0.3333333333333333,
              "#9c179e"
             ],
             [
              0.4444444444444444,
              "#bd3786"
             ],
             [
              0.5555555555555556,
              "#d8576b"
             ],
             [
              0.6666666666666666,
              "#ed7953"
             ],
             [
              0.7777777777777778,
              "#fb9f3a"
             ],
             [
              0.8888888888888888,
              "#fdca26"
             ],
             [
              1,
              "#f0f921"
             ]
            ],
            "type": "histogram2dcontour"
           }
          ],
          "mesh3d": [
           {
            "colorbar": {
             "outlinewidth": 0,
             "ticks": ""
            },
            "type": "mesh3d"
           }
          ],
          "parcoords": [
           {
            "line": {
             "colorbar": {
              "outlinewidth": 0,
              "ticks": ""
             }
            },
            "type": "parcoords"
           }
          ],
          "pie": [
           {
            "automargin": true,
            "type": "pie"
           }
          ],
          "scatter": [
           {
            "fillpattern": {
             "fillmode": "overlay",
             "size": 10,
             "solidity": 0.2
            },
            "type": "scatter"
           }
          ],
          "scatter3d": [
           {
            "line": {
             "colorbar": {
              "outlinewidth": 0,
              "ticks": ""
             }
            },
            "marker": {
             "colorbar": {
              "outlinewidth": 0,
              "ticks": ""
             }
            },
            "type": "scatter3d"
           }
          ],
          "scattercarpet": [
           {
            "marker": {
             "colorbar": {
              "outlinewidth": 0,
              "ticks": ""
             }
            },
            "type": "scattercarpet"
           }
          ],
          "scattergeo": [
           {
            "marker": {
             "colorbar": {
              "outlinewidth": 0,
              "ticks": ""
             }
            },
            "type": "scattergeo"
           }
          ],
          "scattergl": [
           {
            "marker": {
             "colorbar": {
              "outlinewidth": 0,
              "ticks": ""
             }
            },
            "type": "scattergl"
           }
          ],
          "scattermapbox": [
           {
            "marker": {
             "colorbar": {
              "outlinewidth": 0,
              "ticks": ""
             }
            },
            "type": "scattermapbox"
           }
          ],
          "scatterpolar": [
           {
            "marker": {
             "colorbar": {
              "outlinewidth": 0,
              "ticks": ""
             }
            },
            "type": "scatterpolar"
           }
          ],
          "scatterpolargl": [
           {
            "marker": {
             "colorbar": {
              "outlinewidth": 0,
              "ticks": ""
             }
            },
            "type": "scatterpolargl"
           }
          ],
          "scatterternary": [
           {
            "marker": {
             "colorbar": {
              "outlinewidth": 0,
              "ticks": ""
             }
            },
            "type": "scatterternary"
           }
          ],
          "surface": [
           {
            "colorbar": {
             "outlinewidth": 0,
             "ticks": ""
            },
            "colorscale": [
             [
              0,
              "#0d0887"
             ],
             [
              0.1111111111111111,
              "#46039f"
             ],
             [
              0.2222222222222222,
              "#7201a8"
             ],
             [
              0.3333333333333333,
              "#9c179e"
             ],
             [
              0.4444444444444444,
              "#bd3786"
             ],
             [
              0.5555555555555556,
              "#d8576b"
             ],
             [
              0.6666666666666666,
              "#ed7953"
             ],
             [
              0.7777777777777778,
              "#fb9f3a"
             ],
             [
              0.8888888888888888,
              "#fdca26"
             ],
             [
              1,
              "#f0f921"
             ]
            ],
            "type": "surface"
           }
          ],
          "table": [
           {
            "cells": {
             "fill": {
              "color": "#EBF0F8"
             },
             "line": {
              "color": "white"
             }
            },
            "header": {
             "fill": {
              "color": "#C8D4E3"
             },
             "line": {
              "color": "white"
             }
            },
            "type": "table"
           }
          ]
         },
         "layout": {
          "annotationdefaults": {
           "arrowcolor": "#2a3f5f",
           "arrowhead": 0,
           "arrowwidth": 1
          },
          "autotypenumbers": "strict",
          "coloraxis": {
           "colorbar": {
            "outlinewidth": 0,
            "ticks": ""
           }
          },
          "colorscale": {
           "diverging": [
            [
             0,
             "#8e0152"
            ],
            [
             0.1,
             "#c51b7d"
            ],
            [
             0.2,
             "#de77ae"
            ],
            [
             0.3,
             "#f1b6da"
            ],
            [
             0.4,
             "#fde0ef"
            ],
            [
             0.5,
             "#f7f7f7"
            ],
            [
             0.6,
             "#e6f5d0"
            ],
            [
             0.7,
             "#b8e186"
            ],
            [
             0.8,
             "#7fbc41"
            ],
            [
             0.9,
             "#4d9221"
            ],
            [
             1,
             "#276419"
            ]
           ],
           "sequential": [
            [
             0,
             "#0d0887"
            ],
            [
             0.1111111111111111,
             "#46039f"
            ],
            [
             0.2222222222222222,
             "#7201a8"
            ],
            [
             0.3333333333333333,
             "#9c179e"
            ],
            [
             0.4444444444444444,
             "#bd3786"
            ],
            [
             0.5555555555555556,
             "#d8576b"
            ],
            [
             0.6666666666666666,
             "#ed7953"
            ],
            [
             0.7777777777777778,
             "#fb9f3a"
            ],
            [
             0.8888888888888888,
             "#fdca26"
            ],
            [
             1,
             "#f0f921"
            ]
           ],
           "sequentialminus": [
            [
             0,
             "#0d0887"
            ],
            [
             0.1111111111111111,
             "#46039f"
            ],
            [
             0.2222222222222222,
             "#7201a8"
            ],
            [
             0.3333333333333333,
             "#9c179e"
            ],
            [
             0.4444444444444444,
             "#bd3786"
            ],
            [
             0.5555555555555556,
             "#d8576b"
            ],
            [
             0.6666666666666666,
             "#ed7953"
            ],
            [
             0.7777777777777778,
             "#fb9f3a"
            ],
            [
             0.8888888888888888,
             "#fdca26"
            ],
            [
             1,
             "#f0f921"
            ]
           ]
          },
          "colorway": [
           "#636efa",
           "#EF553B",
           "#00cc96",
           "#ab63fa",
           "#FFA15A",
           "#19d3f3",
           "#FF6692",
           "#B6E880",
           "#FF97FF",
           "#FECB52"
          ],
          "font": {
           "color": "#2a3f5f"
          },
          "geo": {
           "bgcolor": "white",
           "lakecolor": "white",
           "landcolor": "white",
           "showlakes": true,
           "showland": true,
           "subunitcolor": "#C8D4E3"
          },
          "hoverlabel": {
           "align": "left"
          },
          "hovermode": "closest",
          "mapbox": {
           "style": "light"
          },
          "paper_bgcolor": "white",
          "plot_bgcolor": "white",
          "polar": {
           "angularaxis": {
            "gridcolor": "#EBF0F8",
            "linecolor": "#EBF0F8",
            "ticks": ""
           },
           "bgcolor": "white",
           "radialaxis": {
            "gridcolor": "#EBF0F8",
            "linecolor": "#EBF0F8",
            "ticks": ""
           }
          },
          "scene": {
           "xaxis": {
            "backgroundcolor": "white",
            "gridcolor": "#DFE8F3",
            "gridwidth": 2,
            "linecolor": "#EBF0F8",
            "showbackground": true,
            "ticks": "",
            "zerolinecolor": "#EBF0F8"
           },
           "yaxis": {
            "backgroundcolor": "white",
            "gridcolor": "#DFE8F3",
            "gridwidth": 2,
            "linecolor": "#EBF0F8",
            "showbackground": true,
            "ticks": "",
            "zerolinecolor": "#EBF0F8"
           },
           "zaxis": {
            "backgroundcolor": "white",
            "gridcolor": "#DFE8F3",
            "gridwidth": 2,
            "linecolor": "#EBF0F8",
            "showbackground": true,
            "ticks": "",
            "zerolinecolor": "#EBF0F8"
           }
          },
          "shapedefaults": {
           "line": {
            "color": "#2a3f5f"
           }
          },
          "ternary": {
           "aaxis": {
            "gridcolor": "#DFE8F3",
            "linecolor": "#A2B1C6",
            "ticks": ""
           },
           "baxis": {
            "gridcolor": "#DFE8F3",
            "linecolor": "#A2B1C6",
            "ticks": ""
           },
           "bgcolor": "white",
           "caxis": {
            "gridcolor": "#DFE8F3",
            "linecolor": "#A2B1C6",
            "ticks": ""
           }
          },
          "title": {
           "x": 0.05
          },
          "xaxis": {
           "automargin": true,
           "gridcolor": "#EBF0F8",
           "linecolor": "#EBF0F8",
           "ticks": "",
           "title": {
            "standoff": 15
           },
           "zerolinecolor": "#EBF0F8",
           "zerolinewidth": 2
          },
          "yaxis": {
           "automargin": true,
           "gridcolor": "#EBF0F8",
           "linecolor": "#EBF0F8",
           "ticks": "",
           "title": {
            "standoff": 15
           },
           "zerolinecolor": "#EBF0F8",
           "zerolinewidth": 2
          }
         }
        },
        "title": {
         "font": {
          "size": 20
         },
         "text": "Velocidad"
        },
        "width": 600,
        "xaxis": {
         "linecolor": "black",
         "linewidth": 2,
         "mirror": true,
         "showgrid": false,
         "showline": true,
         "title": {
          "text": "Tiempo (seg)"
         }
        },
        "yaxis": {
         "linecolor": "black",
         "linewidth": 2,
         "mirror": true,
         "showgrid": false,
         "showline": true,
         "title": {
          "text": "Pixeles/seg"
         }
        }
       }
      }
     },
     "metadata": {},
     "output_type": "display_data"
    }
   ],
   "source": [
    "fig = go.Figure()\n",
    "fig.add_traces(go.Scatter(x = df.t,y = df.x,\n",
    "                          name = 'X',\n",
    "                          hovertemplate ='<b>Vx</b>: %{text}',\n",
    "                          text = df.vx,))\n",
    "\n",
    "fig.add_traces(go.Scatter(x = df.t,y = df.y, \n",
    "                          name = 'Y', \n",
    "                          hovertemplate ='<b>Vy</b>: %{text}',\n",
    "                          text = df.vy,))\n",
    "\n",
    "estetica(fig,title = 'Posición',x_name = 'Tiempo (seg)', y_name = 'Pixeles', h = 500,w = 600)\n",
    "\n",
    "fig.show()\n",
    "\n",
    "fig2 = go.Figure()\n",
    "fig2.add_traces(go.Scatter(x = df.t,y = df.vx,\n",
    "                          name = 'X',\n",
    "                          hovertemplate ='<b>Vx</b>: %{text}',\n",
    "                          text = df.vx,))\n",
    "\n",
    "fig2.add_traces(go.Scatter(x = df.t,y = df.vy, \n",
    "                          name = 'Y', \n",
    "                          hovertemplate ='<b>Vy</b>: %{text}',\n",
    "                          text = df.vy,))\n",
    "\n",
    "estetica(fig2,title = 'Velocidad',x_name = 'Tiempo (seg)', y_name = 'Pixeles/seg', h = 500,w = 600)\n",
    "fig2.update_layout(\n",
    "        legend=dict(orientation = 'v',\n",
    "                    font = dict(size = 18),\n",
    "                     yanchor=\"top\",\n",
    "                     y=0.95,\n",
    "                     xanchor=\"right\",\n",
    "                     x=0.95,\n",
    "                     bgcolor='rgba(255,255,255,0)',\n",
    "                   ))\n",
    "\n",
    "fig2.show()"
   ]
  },
  {
   "cell_type": "markdown",
   "id": "f83f5b71",
   "metadata": {},
   "source": [
    "## Filtrado de señal"
   ]
  },
  {
   "cell_type": "code",
   "execution_count": 77,
   "id": "bb37746f",
   "metadata": {},
   "outputs": [],
   "source": [
    "from scipy.signal import savgol_filter as sv_filt\n",
    "from scipy import signal"
   ]
  },
  {
   "cell_type": "code",
   "execution_count": 88,
   "id": "60c41404",
   "metadata": {},
   "outputs": [],
   "source": [
    "tot_points = len(df)\n",
    "d = 5\n",
    "df['x_filt'] = sv_filt(df.x,15,3)\n",
    "df['y_filt'] = sv_filt(df.y,15,3)\n",
    "df['vx2'] = df.x_filt.diff(d)/df.t.diff(d)\n",
    "df['vy2'] = df.y_filt.diff(d)/df.t.diff(d)"
   ]
  },
  {
   "cell_type": "code",
   "execution_count": 89,
   "id": "50f91167",
   "metadata": {},
   "outputs": [
    {
     "data": {
      "application/vnd.plotly.v1+json": {
       "config": {
        "plotlyServerURL": "https://plot.ly"
       },
       "data": [
        {
         "hovertemplate": "<b>Vx</b>: %{text}",
         "name": "X",
         "text": [
          null,
          null,
          null,
          null,
          null,
          651.1732385261773,
          657.9137039431132,
          663.8962508080264,
          673.0792501616093,
          660.812798965752,
          550.5758457229149,
          560.8977052359517,
          574.1402714932177,
          585.8144796380143,
          613.3303167420833,
          750.7873303167434,
          530.9592760181009,
          518.8817065287675,
          506.6877828054315,
          490.8519715578552,
          475.9353587588895,
          643.5203619909564,
          614.4760180995528,
          573.2633484162993,
          550.7511312217247,
          531.7574660633533,
          523.4823529411774,
          524.4923076923085,
          533.3049773755662,
          525.7303167420862,
          522.0488687782856,
          520.2081447963805,
          515.8751131221723,
          515.8425339366528,
          512.2425339366524,
          506.83438914027266,
          502.37104072399,
          500.40000000000504,
          492.61357466063765,
          492.72760180995937,
          493.86787330317037,
          489.32307692307756,
          484.4524886877866,
          482.0742081448011,
          481.40633484162925,
          472.87058823529577,
          469.7104072398195,
          470.21538461538506,
          473.9945701357465,
          480.8850678733073,
          492.32036199095035,
          497.7610859728556,
          501.45882352941584,
          497.6633484162941,
          492.4669683257965,
          486.70045248869513,
          481.09683257918664,
          476.38914027149434,
          477.171040723982,
          473.6361990950232,
          474.6461538461553,
          482.02533936652037,
          488.00361990950677,
          489.5185520361995,
          490.4959276018111,
          488.49230769230815,
          475.8678733031703,
          466.85972850679065,
          463.74841628960087,
          460.66968325792215,
          459.2199095022675,
          464.7583710407266,
          468.03257918552146,
          468.14660633484317,
          467.52760180995966,
          468.5049773755655,
          466.04524886877675,
          463.58552036199103,
          464.56289592760163,
          468.97737556561054,
          468.57478991592103,
          471.92378797668454,
          474.4764059469478,
          474.1769877181172,
          471.29928894629876,
          468.2789269553995,
          464.1839043309645
         ],
         "type": "scatter",
         "x": [
          2.511111111111111,
          2.522222222222222,
          2.5333333333333337,
          2.5444444444444447,
          2.555555555555556,
          2.566666666666667,
          2.577777777777778,
          2.588888888888889,
          2.6000000000000005,
          2.611111111111111,
          2.6333333333333333,
          2.6444444444444444,
          2.6555555555555554,
          2.666666666666667,
          2.677777777777778,
          2.688888888888889,
          2.7222222222222223,
          2.7333333333333334,
          2.744444444444445,
          2.755555555555556,
          2.766666666666667,
          2.7777777777777777,
          2.7888888888888888,
          2.8,
          2.8111111111111113,
          2.8222222222222224,
          2.8333333333333335,
          2.8444444444444446,
          2.8555555555555556,
          2.8666666666666667,
          2.8777777777777778,
          2.8888888888888893,
          2.9000000000000004,
          2.9111111111111114,
          2.9222222222222225,
          2.9333333333333336,
          2.944444444444444,
          2.9555555555555557,
          2.966666666666667,
          2.977777777777778,
          2.988888888888889,
          3,
          3.011111111111111,
          3.022222222222222,
          3.0333333333333337,
          3.0444444444444447,
          3.055555555555556,
          3.066666666666667,
          3.077777777777778,
          3.088888888888889,
          3.1000000000000005,
          3.111111111111111,
          3.1222222222222222,
          3.1333333333333333,
          3.1444444444444444,
          3.1555555555555554,
          3.166666666666667,
          3.177777777777778,
          3.188888888888889,
          3.2,
          3.2111111111111112,
          3.2222222222222223,
          3.2333333333333334,
          3.244444444444445,
          3.255555555555556,
          3.266666666666667,
          3.2777777777777777,
          3.2888888888888888,
          3.3,
          3.3111111111111113,
          3.3222222222222224,
          3.3333333333333335,
          3.3444444444444446,
          3.3555555555555556,
          3.3666666666666667,
          3.377777777777778,
          3.3888888888888893,
          3.4000000000000004,
          3.4111111111111114,
          3.4222222222222225,
          3.4333333333333336,
          3.4444444444444446,
          3.4555555555555557,
          3.466666666666667,
          3.477777777777778,
          3.488888888888889,
          3.5
         ],
         "y": [
          29.703267973856182,
          36.771895424836586,
          43.93225957049485,
          51.175939093586145,
          58.49451267686562,
          65.87955900308842,
          73.3226567550097,
          80.81538461538507,
          88.56923076923127,
          95.20633484162948,
          102.58461538461594,
          110.71583710407302,
          119.09140271493278,
          127.62352941176542,
          136.09502262443516,
          144.2950226244352,
          152.01266968325874,
          159.44886877828145,
          167.03257918552129,
          174.2723981900462,
          181.31221719457113,
          187.7638009049784,
          193.5864253393676,
          198.88054298642643,
          204.8696832579197,
          210.8542986425351,
          216.84615384615506,
          222.7248868778293,
          228.50859728506913,
          234.07692307692437,
          239.85701357466198,
          245.746606334843,
          251.38461538461678,
          257.1665158371055,
          262.53484162896075,
          268.0144796380106,
          273.65610859728656,
          279.18461538461696,
          284.5339366515853,
          289.9085972850695,
          295.45158371040884,
          300.8407239819021,
          306.09864253393835,
          311.31583710407415,
          316.65339366516014,
          321.72217194570317,
          326.93574660633664,
          332.2217194570154,
          337.6488687782824,
          343.3692307692327,
          349.07330316742275,
          354.5891402714952,
          360.0805429864273,
          365.29683257918754,
          370.7285067873324,
          376.11221719457217,
          381.3167420814501,
          386.5466063348438,
          391.8063348416311,
          397.0416289592782,
          402.48144796380313,
          408.09592760181226,
          413.6579185520385,
          419.0018099547534,
          424.2914027149345,
          429.6199095022648,
          434.5330316742105,
          439.594570135749,
          444.76561085973094,
          449.8841628959301,
          455.13212669683514,
          460.3529411764732,
          465.5963800905003,
          470.77375565611123,
          475.8579185520389,
          481.1601809954778,
          486.2443438914054,
          491.35113122172214,
          496.582805429867,
          501.9122171945729,
          507.1921137685844,
          512.4623321123322,
          517.710931552108,
          522.9259714142067,
          528.0955110249228,
          533.207609710551,
          538.2503267973857
         ]
        },
        {
         "hovertemplate": "<b>Vy</b>: %{text}",
         "name": "Y",
         "text": [
          null,
          null,
          null,
          null,
          null,
          912.6195862960546,
          896.0488041370357,
          880.326438267645,
          868.3776341305994,
          839.3158371041058,
          686.3569812540676,
          684.6680672269189,
          686.1855203619972,
          688.0723981900521,
          698.6470588235304,
          835.4280542986444,
          573.6729153199764,
          543.2462831286389,
          513.9948287007124,
          480.9269553975455,
          446.23012281835844,
          583.1837104072445,
          536.0742081448013,
          472.8217194570216,
          436.6914027149357,
          401.7502262443484,
          372.98280542986544,
          358.8108597285077,
          349.1185520361989,
          324.37466063348677,
          304.3710407239848,
          288.94479638009085,
          269.4624434389138,
          255.66515837104168,
          243.9529411764707,
          230.88868778280448,
          215.41357466063675,
          200.0199095022629,
          182.16651583710606,
          160.30588235294329,
          140.04162895927738,
          120.83619909502332,
          102.24977375565746,
          88.9900452488682,
          78.84162895927487,
          63.708597285068834,
          46.457918552036084,
          28.637104072397833,
          4.267873303168794,
          -20.720361990949716,
          -44.32398190045322,
          -65.76108597285202,
          -87.89864253393691,
          -102.47782805430089,
          -114.4832579185523,
          -125.02262443439085,
          -132.7113122171937,
          -141.10045248868704,
          -153.90407239818933,
          -171.44796380090648,
          -189.3502262443439,
          -213.13303167420995,
          -234.86334841629278,
          -253.80814479638093,
          -271.4497737556555,
          -286.7294117647068,
          -298.4904977375599,
          -312.8742081447999,
          -327.60000000000565,
          -338.02533936651986,
          -352.8977375565652,
          -373.74841628959285,
          -388.83257918552124,
          -404.68235294117596,
          -425.32126696832876,
          -442.65339366515826,
          -454.62624434389215,
          -468.7656108597284,
          -483.9638009049785,
          -500.43257918552155,
          -516.4208144796788,
          -533.0139625081222,
          -549.7685843568612,
          -565.5082094376633,
          -578.2255979315217,
          -590.7433742727903,
          -602.2656755009713
         ],
         "type": "scatter",
         "x": [
          2.511111111111111,
          2.522222222222222,
          2.5333333333333337,
          2.5444444444444447,
          2.555555555555556,
          2.566666666666667,
          2.577777777777778,
          2.588888888888889,
          2.6000000000000005,
          2.611111111111111,
          2.6333333333333333,
          2.6444444444444444,
          2.6555555555555554,
          2.666666666666667,
          2.677777777777778,
          2.688888888888889,
          2.7222222222222223,
          2.7333333333333334,
          2.744444444444445,
          2.755555555555556,
          2.766666666666667,
          2.7777777777777777,
          2.7888888888888888,
          2.8,
          2.8111111111111113,
          2.8222222222222224,
          2.8333333333333335,
          2.8444444444444446,
          2.8555555555555556,
          2.8666666666666667,
          2.8777777777777778,
          2.8888888888888893,
          2.9000000000000004,
          2.9111111111111114,
          2.9222222222222225,
          2.9333333333333336,
          2.944444444444444,
          2.9555555555555557,
          2.966666666666667,
          2.977777777777778,
          2.988888888888889,
          3,
          3.011111111111111,
          3.022222222222222,
          3.0333333333333337,
          3.0444444444444447,
          3.055555555555556,
          3.066666666666667,
          3.077777777777778,
          3.088888888888889,
          3.1000000000000005,
          3.111111111111111,
          3.1222222222222222,
          3.1333333333333333,
          3.1444444444444444,
          3.1555555555555554,
          3.166666666666667,
          3.177777777777778,
          3.188888888888889,
          3.2,
          3.2111111111111112,
          3.2222222222222223,
          3.2333333333333334,
          3.244444444444445,
          3.255555555555556,
          3.266666666666667,
          3.2777777777777777,
          3.2888888888888888,
          3.3,
          3.3111111111111113,
          3.3222222222222224,
          3.3333333333333335,
          3.3444444444444446,
          3.3555555555555556,
          3.3666666666666667,
          3.377777777777778,
          3.3888888888888893,
          3.4000000000000004,
          3.4111111111111114,
          3.4222222222222225,
          3.4333333333333336,
          3.4444444444444446,
          3.4555555555555557,
          3.466666666666667,
          3.477777777777778,
          3.488888888888889,
          3.5
         ],
         "y": [
          232.60784313725497,
          243.13515406162477,
          253.4594914889034,
          263.59028226675304,
          273.53695324283575,
          283.3089312648138,
          292.9156431803492,
          302.36651583710574,
          311.83348416289766,
          320.16561085973035,
          329.06606334841814,
          338.56018099547697,
          348.11221719457205,
          357.70497737556764,
          366.74208144796586,
          375.47873303167637,
          383.1791855203641,
          390.36470588235517,
          397.6823529411787,
          404.1475113122195,
          410.1855203619932,
          415.5782805429887,
          420.146606334844,
          423.95022624434625,
          428.4081447963825,
          432.50497737556805,
          436.29954751131464,
          440.0805429864279,
          443.3457013574685,
          446.4289592760206,
          449.4144796380116,
          452.35203619909754,
          455.05067873303426,
          457.5493212669709,
          459.98190045249123,
          462.24162895927856,
          464.3194570135772,
          466.1628959276044,
          467.6696832579212,
          468.8877828054325,
          470.02171945701616,
          471.032579185523,
          471.8434389140298,
          472.61357466063606,
          473.26787330317,
          473.56108597285333,
          473.6135746606361,
          473.4343891402741,
          472.85067873303433,
          472.1167420814506,
          471.09864253393926,
          469.9601809954777,
          468.5511312217221,
          467.15746606335097,
          465.7565610859755,
          464.1529411764732,
          462.58733031674467,
          460.71221719457276,
          458.6072398190071,
          456.2316742081473,
          453.63348416289847,
          450.74660633484416,
          447.66425339366765,
          444.5067873303192,
          441.1511312217219,
          437.70407239819247,
          434.1638009049798,
          430.28235294117883,
          426.3067873303191,
          422.3719457013598,
          418.0986425339389,
          413.4000000000023,
          408.68054298642755,
          403.82443438914254,
          398.7429864253416,
          393.5067873303189,
          388.1429864253415,
          382.63800904977586,
          376.93755656108806,
          370.9411764705903,
          364.81674208144796,
          358.53109961933484,
          352.09530991883923,
          345.5204338145513,
          338.8175321410614,
          331.9976657329597,
          325.07189542483655
         ]
        }
       ],
       "layout": {
        "autosize": false,
        "height": 500,
        "legend": {
         "bgcolor": "rgba(255,255,255,0)",
         "font": {
          "size": 18
         },
         "orientation": "v",
         "x": 0.05,
         "xanchor": "left",
         "y": 0.95,
         "yanchor": "top"
        },
        "margin": {
         "b": 20,
         "l": 20,
         "r": 20,
         "t": 40
        },
        "plot_bgcolor": "white",
        "template": {
         "data": {
          "bar": [
           {
            "error_x": {
             "color": "#2a3f5f"
            },
            "error_y": {
             "color": "#2a3f5f"
            },
            "marker": {
             "line": {
              "color": "white",
              "width": 0.5
             },
             "pattern": {
              "fillmode": "overlay",
              "size": 10,
              "solidity": 0.2
             }
            },
            "type": "bar"
           }
          ],
          "barpolar": [
           {
            "marker": {
             "line": {
              "color": "white",
              "width": 0.5
             },
             "pattern": {
              "fillmode": "overlay",
              "size": 10,
              "solidity": 0.2
             }
            },
            "type": "barpolar"
           }
          ],
          "carpet": [
           {
            "aaxis": {
             "endlinecolor": "#2a3f5f",
             "gridcolor": "#C8D4E3",
             "linecolor": "#C8D4E3",
             "minorgridcolor": "#C8D4E3",
             "startlinecolor": "#2a3f5f"
            },
            "baxis": {
             "endlinecolor": "#2a3f5f",
             "gridcolor": "#C8D4E3",
             "linecolor": "#C8D4E3",
             "minorgridcolor": "#C8D4E3",
             "startlinecolor": "#2a3f5f"
            },
            "type": "carpet"
           }
          ],
          "choropleth": [
           {
            "colorbar": {
             "outlinewidth": 0,
             "ticks": ""
            },
            "type": "choropleth"
           }
          ],
          "contour": [
           {
            "colorbar": {
             "outlinewidth": 0,
             "ticks": ""
            },
            "colorscale": [
             [
              0,
              "#0d0887"
             ],
             [
              0.1111111111111111,
              "#46039f"
             ],
             [
              0.2222222222222222,
              "#7201a8"
             ],
             [
              0.3333333333333333,
              "#9c179e"
             ],
             [
              0.4444444444444444,
              "#bd3786"
             ],
             [
              0.5555555555555556,
              "#d8576b"
             ],
             [
              0.6666666666666666,
              "#ed7953"
             ],
             [
              0.7777777777777778,
              "#fb9f3a"
             ],
             [
              0.8888888888888888,
              "#fdca26"
             ],
             [
              1,
              "#f0f921"
             ]
            ],
            "type": "contour"
           }
          ],
          "contourcarpet": [
           {
            "colorbar": {
             "outlinewidth": 0,
             "ticks": ""
            },
            "type": "contourcarpet"
           }
          ],
          "heatmap": [
           {
            "colorbar": {
             "outlinewidth": 0,
             "ticks": ""
            },
            "colorscale": [
             [
              0,
              "#0d0887"
             ],
             [
              0.1111111111111111,
              "#46039f"
             ],
             [
              0.2222222222222222,
              "#7201a8"
             ],
             [
              0.3333333333333333,
              "#9c179e"
             ],
             [
              0.4444444444444444,
              "#bd3786"
             ],
             [
              0.5555555555555556,
              "#d8576b"
             ],
             [
              0.6666666666666666,
              "#ed7953"
             ],
             [
              0.7777777777777778,
              "#fb9f3a"
             ],
             [
              0.8888888888888888,
              "#fdca26"
             ],
             [
              1,
              "#f0f921"
             ]
            ],
            "type": "heatmap"
           }
          ],
          "heatmapgl": [
           {
            "colorbar": {
             "outlinewidth": 0,
             "ticks": ""
            },
            "colorscale": [
             [
              0,
              "#0d0887"
             ],
             [
              0.1111111111111111,
              "#46039f"
             ],
             [
              0.2222222222222222,
              "#7201a8"
             ],
             [
              0.3333333333333333,
              "#9c179e"
             ],
             [
              0.4444444444444444,
              "#bd3786"
             ],
             [
              0.5555555555555556,
              "#d8576b"
             ],
             [
              0.6666666666666666,
              "#ed7953"
             ],
             [
              0.7777777777777778,
              "#fb9f3a"
             ],
             [
              0.8888888888888888,
              "#fdca26"
             ],
             [
              1,
              "#f0f921"
             ]
            ],
            "type": "heatmapgl"
           }
          ],
          "histogram": [
           {
            "marker": {
             "pattern": {
              "fillmode": "overlay",
              "size": 10,
              "solidity": 0.2
             }
            },
            "type": "histogram"
           }
          ],
          "histogram2d": [
           {
            "colorbar": {
             "outlinewidth": 0,
             "ticks": ""
            },
            "colorscale": [
             [
              0,
              "#0d0887"
             ],
             [
              0.1111111111111111,
              "#46039f"
             ],
             [
              0.2222222222222222,
              "#7201a8"
             ],
             [
              0.3333333333333333,
              "#9c179e"
             ],
             [
              0.4444444444444444,
              "#bd3786"
             ],
             [
              0.5555555555555556,
              "#d8576b"
             ],
             [
              0.6666666666666666,
              "#ed7953"
             ],
             [
              0.7777777777777778,
              "#fb9f3a"
             ],
             [
              0.8888888888888888,
              "#fdca26"
             ],
             [
              1,
              "#f0f921"
             ]
            ],
            "type": "histogram2d"
           }
          ],
          "histogram2dcontour": [
           {
            "colorbar": {
             "outlinewidth": 0,
             "ticks": ""
            },
            "colorscale": [
             [
              0,
              "#0d0887"
             ],
             [
              0.1111111111111111,
              "#46039f"
             ],
             [
              0.2222222222222222,
              "#7201a8"
             ],
             [
              0.3333333333333333,
              "#9c179e"
             ],
             [
              0.4444444444444444,
              "#bd3786"
             ],
             [
              0.5555555555555556,
              "#d8576b"
             ],
             [
              0.6666666666666666,
              "#ed7953"
             ],
             [
              0.7777777777777778,
              "#fb9f3a"
             ],
             [
              0.8888888888888888,
              "#fdca26"
             ],
             [
              1,
              "#f0f921"
             ]
            ],
            "type": "histogram2dcontour"
           }
          ],
          "mesh3d": [
           {
            "colorbar": {
             "outlinewidth": 0,
             "ticks": ""
            },
            "type": "mesh3d"
           }
          ],
          "parcoords": [
           {
            "line": {
             "colorbar": {
              "outlinewidth": 0,
              "ticks": ""
             }
            },
            "type": "parcoords"
           }
          ],
          "pie": [
           {
            "automargin": true,
            "type": "pie"
           }
          ],
          "scatter": [
           {
            "fillpattern": {
             "fillmode": "overlay",
             "size": 10,
             "solidity": 0.2
            },
            "type": "scatter"
           }
          ],
          "scatter3d": [
           {
            "line": {
             "colorbar": {
              "outlinewidth": 0,
              "ticks": ""
             }
            },
            "marker": {
             "colorbar": {
              "outlinewidth": 0,
              "ticks": ""
             }
            },
            "type": "scatter3d"
           }
          ],
          "scattercarpet": [
           {
            "marker": {
             "colorbar": {
              "outlinewidth": 0,
              "ticks": ""
             }
            },
            "type": "scattercarpet"
           }
          ],
          "scattergeo": [
           {
            "marker": {
             "colorbar": {
              "outlinewidth": 0,
              "ticks": ""
             }
            },
            "type": "scattergeo"
           }
          ],
          "scattergl": [
           {
            "marker": {
             "colorbar": {
              "outlinewidth": 0,
              "ticks": ""
             }
            },
            "type": "scattergl"
           }
          ],
          "scattermapbox": [
           {
            "marker": {
             "colorbar": {
              "outlinewidth": 0,
              "ticks": ""
             }
            },
            "type": "scattermapbox"
           }
          ],
          "scatterpolar": [
           {
            "marker": {
             "colorbar": {
              "outlinewidth": 0,
              "ticks": ""
             }
            },
            "type": "scatterpolar"
           }
          ],
          "scatterpolargl": [
           {
            "marker": {
             "colorbar": {
              "outlinewidth": 0,
              "ticks": ""
             }
            },
            "type": "scatterpolargl"
           }
          ],
          "scatterternary": [
           {
            "marker": {
             "colorbar": {
              "outlinewidth": 0,
              "ticks": ""
             }
            },
            "type": "scatterternary"
           }
          ],
          "surface": [
           {
            "colorbar": {
             "outlinewidth": 0,
             "ticks": ""
            },
            "colorscale": [
             [
              0,
              "#0d0887"
             ],
             [
              0.1111111111111111,
              "#46039f"
             ],
             [
              0.2222222222222222,
              "#7201a8"
             ],
             [
              0.3333333333333333,
              "#9c179e"
             ],
             [
              0.4444444444444444,
              "#bd3786"
             ],
             [
              0.5555555555555556,
              "#d8576b"
             ],
             [
              0.6666666666666666,
              "#ed7953"
             ],
             [
              0.7777777777777778,
              "#fb9f3a"
             ],
             [
              0.8888888888888888,
              "#fdca26"
             ],
             [
              1,
              "#f0f921"
             ]
            ],
            "type": "surface"
           }
          ],
          "table": [
           {
            "cells": {
             "fill": {
              "color": "#EBF0F8"
             },
             "line": {
              "color": "white"
             }
            },
            "header": {
             "fill": {
              "color": "#C8D4E3"
             },
             "line": {
              "color": "white"
             }
            },
            "type": "table"
           }
          ]
         },
         "layout": {
          "annotationdefaults": {
           "arrowcolor": "#2a3f5f",
           "arrowhead": 0,
           "arrowwidth": 1
          },
          "autotypenumbers": "strict",
          "coloraxis": {
           "colorbar": {
            "outlinewidth": 0,
            "ticks": ""
           }
          },
          "colorscale": {
           "diverging": [
            [
             0,
             "#8e0152"
            ],
            [
             0.1,
             "#c51b7d"
            ],
            [
             0.2,
             "#de77ae"
            ],
            [
             0.3,
             "#f1b6da"
            ],
            [
             0.4,
             "#fde0ef"
            ],
            [
             0.5,
             "#f7f7f7"
            ],
            [
             0.6,
             "#e6f5d0"
            ],
            [
             0.7,
             "#b8e186"
            ],
            [
             0.8,
             "#7fbc41"
            ],
            [
             0.9,
             "#4d9221"
            ],
            [
             1,
             "#276419"
            ]
           ],
           "sequential": [
            [
             0,
             "#0d0887"
            ],
            [
             0.1111111111111111,
             "#46039f"
            ],
            [
             0.2222222222222222,
             "#7201a8"
            ],
            [
             0.3333333333333333,
             "#9c179e"
            ],
            [
             0.4444444444444444,
             "#bd3786"
            ],
            [
             0.5555555555555556,
             "#d8576b"
            ],
            [
             0.6666666666666666,
             "#ed7953"
            ],
            [
             0.7777777777777778,
             "#fb9f3a"
            ],
            [
             0.8888888888888888,
             "#fdca26"
            ],
            [
             1,
             "#f0f921"
            ]
           ],
           "sequentialminus": [
            [
             0,
             "#0d0887"
            ],
            [
             0.1111111111111111,
             "#46039f"
            ],
            [
             0.2222222222222222,
             "#7201a8"
            ],
            [
             0.3333333333333333,
             "#9c179e"
            ],
            [
             0.4444444444444444,
             "#bd3786"
            ],
            [
             0.5555555555555556,
             "#d8576b"
            ],
            [
             0.6666666666666666,
             "#ed7953"
            ],
            [
             0.7777777777777778,
             "#fb9f3a"
            ],
            [
             0.8888888888888888,
             "#fdca26"
            ],
            [
             1,
             "#f0f921"
            ]
           ]
          },
          "colorway": [
           "#636efa",
           "#EF553B",
           "#00cc96",
           "#ab63fa",
           "#FFA15A",
           "#19d3f3",
           "#FF6692",
           "#B6E880",
           "#FF97FF",
           "#FECB52"
          ],
          "font": {
           "color": "#2a3f5f"
          },
          "geo": {
           "bgcolor": "white",
           "lakecolor": "white",
           "landcolor": "white",
           "showlakes": true,
           "showland": true,
           "subunitcolor": "#C8D4E3"
          },
          "hoverlabel": {
           "align": "left"
          },
          "hovermode": "closest",
          "mapbox": {
           "style": "light"
          },
          "paper_bgcolor": "white",
          "plot_bgcolor": "white",
          "polar": {
           "angularaxis": {
            "gridcolor": "#EBF0F8",
            "linecolor": "#EBF0F8",
            "ticks": ""
           },
           "bgcolor": "white",
           "radialaxis": {
            "gridcolor": "#EBF0F8",
            "linecolor": "#EBF0F8",
            "ticks": ""
           }
          },
          "scene": {
           "xaxis": {
            "backgroundcolor": "white",
            "gridcolor": "#DFE8F3",
            "gridwidth": 2,
            "linecolor": "#EBF0F8",
            "showbackground": true,
            "ticks": "",
            "zerolinecolor": "#EBF0F8"
           },
           "yaxis": {
            "backgroundcolor": "white",
            "gridcolor": "#DFE8F3",
            "gridwidth": 2,
            "linecolor": "#EBF0F8",
            "showbackground": true,
            "ticks": "",
            "zerolinecolor": "#EBF0F8"
           },
           "zaxis": {
            "backgroundcolor": "white",
            "gridcolor": "#DFE8F3",
            "gridwidth": 2,
            "linecolor": "#EBF0F8",
            "showbackground": true,
            "ticks": "",
            "zerolinecolor": "#EBF0F8"
           }
          },
          "shapedefaults": {
           "line": {
            "color": "#2a3f5f"
           }
          },
          "ternary": {
           "aaxis": {
            "gridcolor": "#DFE8F3",
            "linecolor": "#A2B1C6",
            "ticks": ""
           },
           "baxis": {
            "gridcolor": "#DFE8F3",
            "linecolor": "#A2B1C6",
            "ticks": ""
           },
           "bgcolor": "white",
           "caxis": {
            "gridcolor": "#DFE8F3",
            "linecolor": "#A2B1C6",
            "ticks": ""
           }
          },
          "title": {
           "x": 0.05
          },
          "xaxis": {
           "automargin": true,
           "gridcolor": "#EBF0F8",
           "linecolor": "#EBF0F8",
           "ticks": "",
           "title": {
            "standoff": 15
           },
           "zerolinecolor": "#EBF0F8",
           "zerolinewidth": 2
          },
          "yaxis": {
           "automargin": true,
           "gridcolor": "#EBF0F8",
           "linecolor": "#EBF0F8",
           "ticks": "",
           "title": {
            "standoff": 15
           },
           "zerolinecolor": "#EBF0F8",
           "zerolinewidth": 2
          }
         }
        },
        "title": {
         "font": {
          "size": 20
         },
         "text": "Titulo de la figura"
        },
        "width": 600,
        "xaxis": {
         "linecolor": "black",
         "linewidth": 2,
         "mirror": true,
         "showgrid": false,
         "showline": true,
         "title": {
          "text": "Tiempo (seg)"
         }
        },
        "yaxis": {
         "linecolor": "black",
         "linewidth": 2,
         "mirror": true,
         "showgrid": false,
         "showline": true,
         "title": {
          "text": "Pixeles"
         }
        }
       }
      }
     },
     "metadata": {},
     "output_type": "display_data"
    }
   ],
   "source": [
    "fig = go.Figure()\n",
    "fig.add_traces(go.Scatter(x = df.t,y = df.x_filt,\n",
    "                          name = 'X',\n",
    "                          hovertemplate ='<b>Vx</b>: %{text}',\n",
    "                          text = df.vx2,))\n",
    "\n",
    "fig.add_traces(go.Scatter(x = df.t,y = df.y_filt, \n",
    "                          name = 'Y', \n",
    "                          hovertemplate ='<b>Vy</b>: %{text}',\n",
    "                          text = df.vy2,))\n",
    "\n",
    "estetica(fig,title = 'Titulo de la figura',x_name = 'Tiempo (seg)', y_name = 'Pixeles', h = 500,w = 600)\n",
    "\n",
    "fig.show()"
   ]
  }
 ],
 "metadata": {
  "kernelspec": {
   "display_name": "Python 3 (ipykernel)",
   "language": "python",
   "name": "python3"
  },
  "language_info": {
   "codemirror_mode": {
    "name": "ipython",
    "version": 3
   },
   "file_extension": ".py",
   "mimetype": "text/x-python",
   "name": "python",
   "nbconvert_exporter": "python",
   "pygments_lexer": "ipython3",
   "version": "3.11.1"
  }
 },
 "nbformat": 4,
 "nbformat_minor": 5
}
